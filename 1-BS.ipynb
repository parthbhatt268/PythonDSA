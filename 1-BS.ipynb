{
 "cells": [
  {
   "cell_type": "code",
   "execution_count": null,
   "metadata": {},
   "outputs": [],
   "source": [
    "int mid = low + ((high - low) / 2);\n",
    "\n",
    "// Alternatively\n",
    "int mid = (low + high) >>> 1;\n"
   ]
  },
  {
   "cell_type": "code",
   "execution_count": null,
   "metadata": {},
   "outputs": [],
   "source": [
    "## Find a number in array in log n time\n",
    "class Solution:\n",
    "    def search(self, nums: List[int], target: int) -> int:\n",
    "        l, r = 0, len(nums) - 1\n",
    "\n",
    "        while l <= r:\n",
    "            m = l + ((r - l) // 2)  # (l + r) // 2 can lead to overflow\n",
    "            if nums[m] > target:\n",
    "                r = m - 1\n",
    "            elif nums[m] < target:\n",
    "                l = m + 1\n",
    "            else:\n",
    "                return m\n",
    "        return -1\n"
   ]
  },
  {
   "cell_type": "code",
   "execution_count": null,
   "metadata": {},
   "outputs": [],
   "source": [
    "## Search in 2D matrix\n",
    "class Solution:\n",
    "    def searchMatrix(self, matrix: List[List[int]], target: int) -> bool:\n",
    "        ROWS, COLS = len(matrix), len(matrix[0])\n",
    "\n",
    "        top, bot = 0, ROWS - 1\n",
    "        while top <= bot:\n",
    "            row = (top + bot) // 2\n",
    "            if target > matrix[row][-1]:\n",
    "                top = row + 1\n",
    "            elif target < matrix[row][0]:\n",
    "                bot = row - 1\n",
    "            else:\n",
    "                break\n",
    "\n",
    "        if not (top <= bot):\n",
    "            return False\n",
    "        row = (top + bot) // 2\n",
    "        l, r = 0, COLS - 1\n",
    "        while l <= r:\n",
    "            m = (l + r) // 2\n",
    "            if target > matrix[row][m]:\n",
    "                l = m + 1\n",
    "            elif target < matrix[row][m]:\n",
    "                r = m - 1\n",
    "            else:\n",
    "                return True\n",
    "        return False\n"
   ]
  },
  {
   "cell_type": "code",
   "execution_count": null,
   "metadata": {},
   "outputs": [],
   "source": [
    "## Koko eating banana, here you had to find the search space and then apply BS to satisfy a condition\n",
    "class Solution:\n",
    "    def minEatingSpeed(self, piles: List[int], h: int) -> int:\n",
    "        l, r = 1, max(piles)\n",
    "        res = r\n",
    "\n",
    "        while l <= r:\n",
    "            k = (l + r) // 2\n",
    "\n",
    "            totalTime = 0\n",
    "            for p in piles:\n",
    "                totalTime += math.ceil(float(p) / k)\n",
    "            if totalTime <= h:\n",
    "                res = k\n",
    "                r = k - 1\n",
    "            else:\n",
    "                l = k + 1\n",
    "        return res\n"
   ]
  },
  {
   "cell_type": "code",
   "execution_count": null,
   "metadata": {},
   "outputs": [],
   "source": [
    "### Find min in rotated sorted array\n",
    "class Solution:\n",
    "    def findMin(self, nums: List[int]) -> int:\n",
    "        l, r = 0, len(nums) - 1\n",
    "\n",
    "        while l < r:\n",
    "            mid = l + (r-l) // 2\n",
    "            if nums[mid] > nums[r]:\n",
    "                l = mid + 1\n",
    "            else:\n",
    "                r = mid\n",
    "            \n",
    "        return nums[l]"
   ]
  },
  {
   "cell_type": "code",
   "execution_count": null,
   "metadata": {},
   "outputs": [],
   "source": [
    "### Search in roated sorted array\n",
    "class Solution:\n",
    "    def search(self, nums: List[int], target: int) -> int:\n",
    "        l, r = 0, len(nums) - 1\n",
    "\n",
    "        while l <= r:\n",
    "            mid = l + (r - l) // 2  # Calculate mid\n",
    "\n",
    "            if nums[mid] == target:  # Check if mid is the target\n",
    "                return mid\n",
    "\n",
    "            # Check if the left side is sorted\n",
    "            if nums[l] <= nums[mid]:\n",
    "                # Target is in the left sorted half\n",
    "                if nums[l] <= target < nums[mid]:\n",
    "                    r = mid - 1\n",
    "                else:\n",
    "                    l = mid + 1\n",
    "            # Otherwise, the right side must be sorted\n",
    "            else:\n",
    "                # Target is in the right sorted half\n",
    "                if nums[mid] < target <= nums[r]:\n",
    "                    l = mid + 1\n",
    "                else:\n",
    "                    r = mid - 1\n",
    "        return -1  # Target is not found\n"
   ]
  }
 ],
 "metadata": {
  "language_info": {
   "name": "python"
  }
 },
 "nbformat": 4,
 "nbformat_minor": 2
}
