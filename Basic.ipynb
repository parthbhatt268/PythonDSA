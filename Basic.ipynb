{
 "cells": [
  {
   "cell_type": "markdown",
   "metadata": {},
   "source": [
    "Basics of Python"
   ]
  },
  {
   "cell_type": "code",
   "execution_count": 17,
   "metadata": {},
   "outputs": [],
   "source": [
    "num = int(\"10\")  # Converting to integer\n",
    "string = str(10)  # Converting to string\n",
    "flt = float(\"10.5\")  # Converting to float\n",
    "lst = list(\"hello\")  # Converting to list\n",
    "#-------------------#\n",
    "full_string = \"Hello, \" + \"World!\"  # Concatenation\n",
    "substring = \"Hello, World!\"[7:12]  # Substring\n",
    "index = \"Hello, World!\".find(\"World\")  # Finding substring\n",
    "words = \"Hello, World!\".split(\", \")  # Splitting\n",
    "sentence = \" \".join(words)  # Joining\n"
   ]
  },
  {
   "cell_type": "code",
   "execution_count": 18,
   "metadata": {},
   "outputs": [],
   "source": [
    "length_str = len(\"hello\")  # Length of a string\n",
    "length_lst = len([1, 2, 3, 4, 5])  # Length of a list"
   ]
  },
  {
   "cell_type": "code",
   "execution_count": 5,
   "metadata": {},
   "outputs": [
    {
     "name": "stdout",
     "output_type": "stream",
     "text": [
      "0\n",
      "1\n",
      "2\n",
      "3\n",
      "4\n"
     ]
    }
   ],
   "source": [
    "# For loop\n",
    "for i in range(5):\n",
    "    print(i)\n"
   ]
  },
  {
   "cell_type": "code",
   "execution_count": 6,
   "metadata": {},
   "outputs": [],
   "source": [
    "#List are ARRAY "
   ]
  },
  {
   "cell_type": "code",
   "execution_count": 19,
   "metadata": {},
   "outputs": [],
   "source": [
    "my_list = [1, 2, 3, 4, 5]  # Creating a list\n",
    "first_element = my_list[0]  # Accessing elements\n",
    "my_list[1] = 10  # Modifying elements\n",
    "my_list.append(6)  # Adding elements\n",
    "my_list.remove(10)  # Removing elements\n",
    "sub_list = my_list[1:3]  # Slicing"
   ]
  },
  {
   "cell_type": "code",
   "execution_count": 20,
   "metadata": {},
   "outputs": [],
   "source": [
    "#TUPLES\n",
    "my_tuple = (1, 2, 3)  # Creating a tuple\n",
    "first_element = my_tuple[0]  # Accessing elements\n",
    "# Tuples are immutable\n",
    "# my_tuple[1] = 10  # This will raise an error\n"
   ]
  },
  {
   "cell_type": "code",
   "execution_count": 21,
   "metadata": {},
   "outputs": [],
   "source": [
    "#DICT are HASHMAP\n",
    "my_dict = {\"name\": \"Alice\", \"age\": 25}  # Creating a dictionary\n",
    "name = my_dict[\"name\"]  # Accessing values\n",
    "my_dict[\"age\"] = 26  # Adding or modifying values\n",
    "del my_dict[\"age\"]  # Removing values\n"
   ]
  },
  {
   "cell_type": "code",
   "execution_count": 22,
   "metadata": {},
   "outputs": [],
   "source": [
    "my_set = {1, 2, 3, 4, 5}  # Creating a set\n",
    "my_set.add(6)  # Adding elements\n",
    "my_set.remove(1)  # Removing elements"
   ]
  },
  {
   "cell_type": "code",
   "execution_count": 23,
   "metadata": {},
   "outputs": [],
   "source": [
    "#Stack\n",
    "stack = []  # Creating a stack\n",
    "stack.append(1)  # Pushing elements\n",
    "stack.append(2)  # Pushing elements\n",
    "top_element = stack.pop()  # Popping elements"
   ]
  },
  {
   "cell_type": "code",
   "execution_count": 24,
   "metadata": {},
   "outputs": [],
   "source": [
    "\n",
    "#Queue\n",
    "from collections import deque\n",
    "\n",
    "queue = deque()  # Creating a queue\n",
    "queue.append(1)  # Enqueue\n",
    "queue.append(2)  # Enqueue\n",
    "first_element = queue.popleft()  # Dequeue\n"
   ]
  },
  {
   "cell_type": "code",
   "execution_count": 15,
   "metadata": {},
   "outputs": [],
   "source": [
    "#Linked List\n",
    "class ListNode:\n",
    "    def __init__(self, value=0, next=None):\n",
    "        self.value = value\n",
    "        self.next = next\n",
    "\n",
    "# Creating nodes\n",
    "node1 = ListNode(1)\n",
    "node2 = ListNode(2)\n",
    "node1.next = node2\n"
   ]
  },
  {
   "cell_type": "code",
   "execution_count": 27,
   "metadata": {},
   "outputs": [],
   "source": [
    "#Function\n",
    "def add(a, b):\n",
    "    return a + b  # Defining a function\n",
    "\n",
    "result = add(2, 3)  # Calling a function"
   ]
  },
  {
   "cell_type": "code",
   "execution_count": 26,
   "metadata": {},
   "outputs": [],
   "source": [
    "#List comprehensions\n",
    "squares = [x**2 for x in range(10)]  # Creating a list of squares\n",
    "evens = [x for x in range(10) if x % 2 == 0]  # Filtering with list comprehension"
   ]
  },
  {
   "cell_type": "markdown",
   "metadata": {},
   "source": [
    "### Enumerate"
   ]
  },
  {
   "cell_type": "code",
   "execution_count": null,
   "metadata": {},
   "outputs": [],
   "source": [
    "numbers = [10, 20, 30, 40]\n",
    "\n",
    "for index, value in enumerate(numbers):\n",
    "    numbers[index] = value + 5\n",
    "\n",
    "print(numbers)"
   ]
  },
  {
   "cell_type": "markdown",
   "metadata": {},
   "source": [
    "### Basic"
   ]
  },
  {
   "cell_type": "markdown",
   "metadata": {},
   "source": [
    "1. **`type`**: Used to get the type of a variable.\n",
    "   ```python\n",
    "   type(P)\n",
    "   ```\n",
    "\n",
    "2. **`is`**: Used for identity comparison.\n",
    "\n",
    "3. **`in`**: Used to check for membership (if an element is present or not).\n",
    "\n",
    "4. **Data Types in Python**: `int`, `float`, `complex`, `bool`, `str`, `NoneType`\n",
    "\n",
    "5. Example of assigning `None` to a variable:\n",
    "    ```python\n",
    "    X = None\n",
    "    ```\n",
    "\n",
    "6. **Ordered Data Structures**:\n",
    "    - List\n",
    "    - Tuple\n",
    "\n",
    "7. **Unordered Data Structures**:\n",
    "    - Dict\n",
    "    - Set\n",
    "\n",
    "**Note**: \n",
    "- **Ordered** is NOT the same as **Sorted**.\n",
    "  1. **Ordered** means there is an index defined to access elements.\n",
    "  2. **Unordered** means you have a key to access each value, and since there is no order in keys, it is called unordered.\n"
   ]
  },
  {
   "cell_type": "markdown",
   "metadata": {},
   "source": [
    "### Something new"
   ]
  },
  {
   "cell_type": "markdown",
   "metadata": {},
   "source": [
    "### Flexible Arguments in Python\n",
    "\n",
    "- `*args`: Collects extra positional arguments as a tuple.\n",
    "- `**kwargs`: Collects extra keyword arguments as a dictionary.\n",
    "\n",
    "Example:\n",
    "```python\n",
    "def catch_all(*args, **kwargs):\n",
    "    print(\"args =\", args)\n",
    "    print(\"kwargs =\", kwargs)\n",
    "\n",
    "catch_all(1, 2, 3, a=4, b=5)\n",
    "```\n",
    "Output:\n",
    "```\n",
    "args = (1, 2, 3)\n",
    "kwargs = {'a': 4, 'b': 5}\n",
    "```\n"
   ]
  },
  {
   "cell_type": "markdown",
   "metadata": {},
   "source": [
    "### Iteration"
   ]
  },
  {
   "cell_type": "markdown",
   "metadata": {},
   "source": [
    "### Iteration Types in Python\n",
    "\n",
    "1. **Enumerate**: Used to iterate over a list while getting both index and value.\n",
    "   ```python\n",
    "   for index, value in enumerate(my_list):\n",
    "       print(index, value)\n",
    "   ```\n",
    "\n",
    "2. **Zip**: Used to iterate over two or more lists simultaneously, stops at the shortest list.\n",
    "   ```python\n",
    "   for a, b in zip(list1, list2):\n",
    "       print(a, b)\n",
    "   ```\n",
    "\n",
    "3. **Lambda**: A shorthand way to define small anonymous functions.\n",
    "   ```python\n",
    "   lambda parameter: body\n",
    "   ```\n",
    "\n",
    "4. **Variable Assignment**: Variables can point to both data and functions.\n",
    "   ```python\n",
    "   my_var = 10\n",
    "   my_func = lambda x: x + 1\n",
    "   ```\n",
    "\n",
    "5. **Map**: Applies a function to all items in an input list.\n",
    "   ```python\n",
    "   result = map(lambda x: x * 2, my_list)\n",
    "   ```\n",
    "\n",
    "6. **Filter**: Filters items out of a list based on a function that returns True or False.\n",
    "   ```python\n",
    "   result = filter(lambda x: x > 0, my_list)\n",
    "   ```\n"
   ]
  },
  {
   "cell_type": "markdown",
   "metadata": {},
   "source": [
    "### DICT"
   ]
  },
  {
   "cell_type": "markdown",
   "metadata": {},
   "source": [
    "### Python Dictionary Operations\n",
    "\n",
    "- **Creating a Dictionary**:\n",
    "   ```python\n",
    "   my_dict = {'key1': 'value1', 'key2': 'value2'}\n",
    "   ```\n",
    "\n",
    "- **Adding or Updating a Key-Value Pair**:\n",
    "   ```python\n",
    "   my_dict['new_key'] = 'new_value'\n",
    "   ```\n",
    "\n",
    "- **Accessing a Value**:\n",
    "   ```python\n",
    "   value = my_dict['key1']\n",
    "   ```\n",
    "\n",
    "- **Removing a Key-Value Pair**:\n",
    "   - Using `del`:\n",
    "     ```python\n",
    "     del my_dict['key1']\n",
    "     ```\n",
    "   - Using `pop`:\n",
    "     ```python\n",
    "     value = my_dict.pop('key2')\n",
    "     ```\n",
    "\n",
    "- **Getting All Keys**:\n",
    "   ```python\n",
    "   keys = my_dict.keys()\n",
    "   ```\n",
    "\n",
    "- **Getting All Values**:\n",
    "   ```python\n",
    "   values = my_dict.values()\n",
    "   ```\n",
    "\n",
    "- **Getting All Key-Value Pairs**:\n",
    "   ```python\n",
    "   items = my_dict.items()\n",
    "   ```\n",
    "\n",
    "- **Checking if a Key Exists**:\n",
    "   ```python\n",
    "   exists = 'key1' in my_dict\n",
    "   ```\n",
    "\n",
    "- **Clearing All Items**:\n",
    "   ```python\n",
    "   my_dict.clear()\n",
    "   ```\n",
    "\n",
    "- **Copying a Dictionary**:\n",
    "    ```python\n",
    "    new_dict = my_dict.copy()\n",
    "    ```\n",
    "\n",
    "- **Merging Dictionaries**:\n",
    "    - Using `update`:\n",
    "      ```python\n",
    "      my_dict.update({'key3': 'value3'})\n",
    "      ```\n",
    "\n",
    "- **Iterating Through a Dictionary**:\n",
    "    ```python\n",
    "    for key, value in my_dict.items():\n",
    "        print(key, value)\n",
    "    ```"
   ]
  },
  {
   "cell_type": "markdown",
   "metadata": {},
   "source": []
  }
 ],
 "metadata": {
  "kernelspec": {
   "display_name": "Python 3 (ipykernel)",
   "language": "python",
   "name": "python3"
  },
  "language_info": {
   "codemirror_mode": {
    "name": "ipython",
    "version": 3
   },
   "file_extension": ".py",
   "mimetype": "text/x-python",
   "name": "python",
   "nbconvert_exporter": "python",
   "pygments_lexer": "ipython3",
   "version": "3.11.5"
  }
 },
 "nbformat": 4,
 "nbformat_minor": 2
}
