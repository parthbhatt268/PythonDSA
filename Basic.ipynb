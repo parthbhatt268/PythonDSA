{
 "cells": [
  {
   "cell_type": "markdown",
   "metadata": {},
   "source": [
    "Basics of Python"
   ]
  },
  {
   "cell_type": "code",
   "execution_count": 17,
   "metadata": {},
   "outputs": [],
   "source": [
    "num = int(\"10\")  # Converting to integer\n",
    "string = str(10)  # Converting to string\n",
    "flt = float(\"10.5\")  # Converting to float\n",
    "lst = list(\"hello\")  # Converting to list\n",
    "#-------------------#\n",
    "full_string = \"Hello, \" + \"World!\"  # Concatenation\n",
    "substring = \"Hello, World!\"[7:12]  # Substring\n",
    "index = \"Hello, World!\".find(\"World\")  # Finding substring\n",
    "words = \"Hello, World!\".split(\", \")  # Splitting\n",
    "sentence = \" \".join(words)  # Joining\n"
   ]
  },
  {
   "cell_type": "code",
   "execution_count": 18,
   "metadata": {},
   "outputs": [],
   "source": [
    "length_str = len(\"hello\")  # Length of a string\n",
    "length_lst = len([1, 2, 3, 4, 5])  # Length of a list"
   ]
  },
  {
   "cell_type": "code",
   "execution_count": 5,
   "metadata": {},
   "outputs": [
    {
     "name": "stdout",
     "output_type": "stream",
     "text": [
      "0\n",
      "1\n",
      "2\n",
      "3\n",
      "4\n"
     ]
    }
   ],
   "source": [
    "# For loop\n",
    "for i in range(5):\n",
    "    print(i)\n"
   ]
  },
  {
   "cell_type": "code",
   "execution_count": 6,
   "metadata": {},
   "outputs": [],
   "source": [
    "#List are ARRAY "
   ]
  },
  {
   "cell_type": "code",
   "execution_count": 19,
   "metadata": {},
   "outputs": [],
   "source": [
    "my_list = [1, 2, 3, 4, 5]  # Creating a list\n",
    "first_element = my_list[0]  # Accessing elements\n",
    "my_list[1] = 10  # Modifying elements\n",
    "my_list.append(6)  # Adding elements\n",
    "my_list.remove(10)  # Removing elements\n",
    "sub_list = my_list[1:3]  # Slicing"
   ]
  },
  {
   "cell_type": "code",
   "execution_count": 20,
   "metadata": {},
   "outputs": [],
   "source": [
    "#TUPLES\n",
    "my_tuple = (1, 2, 3)  # Creating a tuple\n",
    "first_element = my_tuple[0]  # Accessing elements\n",
    "# Tuples are immutable\n",
    "# my_tuple[1] = 10  # This will raise an error\n"
   ]
  },
  {
   "cell_type": "code",
   "execution_count": 21,
   "metadata": {},
   "outputs": [],
   "source": [
    "#DICT are HASHMAP\n",
    "my_dict = {\"name\": \"Alice\", \"age\": 25}  # Creating a dictionary\n",
    "name = my_dict[\"name\"]  # Accessing values\n",
    "my_dict[\"age\"] = 26  # Adding or modifying values\n",
    "del my_dict[\"age\"]  # Removing values\n"
   ]
  },
  {
   "cell_type": "code",
   "execution_count": 22,
   "metadata": {},
   "outputs": [],
   "source": [
    "my_set = {1, 2, 3, 4, 5}  # Creating a set\n",
    "my_set.add(6)  # Adding elements\n",
    "my_set.remove(1)  # Removing elements"
   ]
  },
  {
   "cell_type": "code",
   "execution_count": 23,
   "metadata": {},
   "outputs": [],
   "source": [
    "#Stack\n",
    "stack = []  # Creating a stack\n",
    "stack.append(1)  # Pushing elements\n",
    "stack.append(2)  # Pushing elements\n",
    "top_element = stack.pop()  # Popping elements"
   ]
  },
  {
   "cell_type": "code",
   "execution_count": 24,
   "metadata": {},
   "outputs": [],
   "source": [
    "\n",
    "#Queue\n",
    "from collections import deque\n",
    "\n",
    "queue = deque()  # Creating a queue\n",
    "queue.append(1)  # Enqueue\n",
    "queue.append(2)  # Enqueue\n",
    "first_element = queue.popleft()  # Dequeue\n"
   ]
  },
  {
   "cell_type": "code",
   "execution_count": 15,
   "metadata": {},
   "outputs": [],
   "source": [
    "#Linked List\n",
    "class ListNode:\n",
    "    def __init__(self, value=0, next=None):\n",
    "        self.value = value\n",
    "        self.next = next\n",
    "\n",
    "# Creating nodes\n",
    "node1 = ListNode(1)\n",
    "node2 = ListNode(2)\n",
    "node1.next = node2\n"
   ]
  },
  {
   "cell_type": "code",
   "execution_count": 27,
   "metadata": {},
   "outputs": [],
   "source": [
    "#Function\n",
    "def add(a, b):\n",
    "    return a + b  # Defining a function\n",
    "\n",
    "result = add(2, 3)  # Calling a function"
   ]
  },
  {
   "cell_type": "code",
   "execution_count": 26,
   "metadata": {},
   "outputs": [],
   "source": [
    "#List comprehensions\n",
    "squares = [x**2 for x in range(10)]  # Creating a list of squares\n",
    "evens = [x for x in range(10) if x % 2 == 0]  # Filtering with list comprehension"
   ]
  },
  {
   "cell_type": "code",
   "execution_count": null,
   "metadata": {},
   "outputs": [],
   "source": []
  }
 ],
 "metadata": {
  "kernelspec": {
   "display_name": "Python 3 (ipykernel)",
   "language": "python",
   "name": "python3"
  },
  "language_info": {
   "codemirror_mode": {
    "name": "ipython",
    "version": 3
   },
   "file_extension": ".py",
   "mimetype": "text/x-python",
   "name": "python",
   "nbconvert_exporter": "python",
   "pygments_lexer": "ipython3",
   "version": "3.11.5"
  }
 },
 "nbformat": 4,
 "nbformat_minor": 2
}
