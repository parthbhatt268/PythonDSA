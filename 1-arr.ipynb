{
 "cells": [
  {
   "cell_type": "code",
   "execution_count": 1,
   "metadata": {},
   "outputs": [
    {
     "name": "stdout",
     "output_type": "stream",
     "text": [
      "[3, 5, 6, 7]\n",
      "0\n",
      "1\n",
      "2\n",
      "3\n",
      "3\n",
      "5\n",
      "6\n",
      "7\n",
      "0 3\n",
      "1 5\n",
      "2 6\n",
      "3 7\n",
      "[3, 5, 6, 7, 8]\n",
      "[3, 6, 7, 8]\n",
      "Sorted numbers: [1, 2, 5, 8, 9]\n"
     ]
    }
   ],
   "source": [
    "# prompt: # prompt: print obj in oython, keep it short example define obja dn then print its key and its value as well in sepearte loops and then third loop wit togther , now also add how to append to obj and also how to remove from it\n",
    "#  can you do same for arr\n",
    "\n",
    "# Define the array\n",
    "arr = [3, 5, 6, 7]\n",
    "\n",
    "# Print the array\n",
    "print(arr)  # Output: [3, 5, 6, 7]\n",
    "\n",
    "# Iterate over indices\n",
    "for i in range(len(arr)):\n",
    "  print(i)\n",
    "\n",
    "# Iterate over values\n",
    "for value in arr:\n",
    "  print(value)\n",
    "\n",
    "# Iterate over index-value pairs\n",
    "for i, value in enumerate(arr):\n",
    "  print(i, value)\n",
    "\n",
    "# Append a new value\n",
    "arr.append(8)\n",
    "print(arr)  # Output: [3, 5, 6, 7, 8]\n",
    "\n",
    "# Remove a value\n",
    "arr.remove(5)\n",
    "print(arr)  # Output: [3, 6, 7, 8]\n",
    "\n",
    "# Sorting a list of numbers\n",
    "numbers = [5, 2, 8, 1, 9]\n",
    "numbers.sort()\n",
    "print(\"Sorted numbers:\", numbers)  # Output: [1, 2, 5, 8, 9]\n"
   ]
  },
  {
   "cell_type": "code",
   "execution_count": null,
   "metadata": {},
   "outputs": [],
   "source": []
  }
 ],
 "metadata": {
  "kernelspec": {
   "display_name": "base",
   "language": "python",
   "name": "python3"
  },
  "language_info": {
   "codemirror_mode": {
    "name": "ipython",
    "version": 3
   },
   "file_extension": ".py",
   "mimetype": "text/x-python",
   "name": "python",
   "nbconvert_exporter": "python",
   "pygments_lexer": "ipython3",
   "version": "3.11.5"
  }
 },
 "nbformat": 4,
 "nbformat_minor": 2
}
