{
 "cells": [
  {
   "cell_type": "code",
   "execution_count": null,
   "metadata": {},
   "outputs": [],
   "source": [
    "g_str = \"aaabbcccc\"\n",
    "\n",
    "pre = g_str[0]\n",
    "counter = 1\n",
    "res = \"\"\n",
    "\n",
    "for i in g_str[1:]:\n",
    "\n",
    "    if i == pre:\n",
    "        counter = counter + 1\n",
    "    else:\n",
    "        str2 = str(counter)+ pre\n",
    "        res = res+str2\n",
    "        pre = i\n",
    "        counter = 1\n",
    "\n",
    "res += str(counter) + pre\n",
    "\n",
    "print(res)\n"
   ]
  },
  {
   "cell_type": "code",
   "execution_count": 2,
   "metadata": {},
   "outputs": [
    {
     "ename": "NameError",
     "evalue": "name 'List' is not defined",
     "output_type": "error",
     "traceback": [
      "\u001b[1;31m---------------------------------------------------------------------------\u001b[0m",
      "\u001b[1;31mNameError\u001b[0m                                 Traceback (most recent call last)",
      "Cell \u001b[1;32mIn[2], line 2\u001b[0m\n\u001b[0;32m      1\u001b[0m \u001b[38;5;66;03m### Best time to buy and sell stoc\u001b[39;00m\n\u001b[1;32m----> 2\u001b[0m \u001b[38;5;28;43;01mclass\u001b[39;49;00m\u001b[43m \u001b[49m\u001b[38;5;21;43;01mSolution\u001b[39;49;00m\u001b[43m:\u001b[49m\n\u001b[0;32m      3\u001b[0m \u001b[43m    \u001b[49m\u001b[38;5;28;43;01mdef\u001b[39;49;00m\u001b[43m \u001b[49m\u001b[38;5;21;43mmaxProfit\u001b[39;49m\u001b[43m(\u001b[49m\u001b[38;5;28;43mself\u001b[39;49m\u001b[43m,\u001b[49m\u001b[43m \u001b[49m\u001b[43mprices\u001b[49m\u001b[43m:\u001b[49m\u001b[43m \u001b[49m\u001b[43mList\u001b[49m\u001b[43m[\u001b[49m\u001b[38;5;28;43mint\u001b[39;49m\u001b[43m]\u001b[49m\u001b[43m)\u001b[49m\u001b[43m \u001b[49m\u001b[38;5;241;43m-\u001b[39;49m\u001b[38;5;241;43m>\u001b[39;49m\u001b[43m \u001b[49m\u001b[38;5;28;43mint\u001b[39;49m\u001b[43m:\u001b[49m\n\u001b[0;32m      4\u001b[0m \u001b[43m        \u001b[49m\u001b[43ml\u001b[49m\u001b[43m,\u001b[49m\u001b[43m \u001b[49m\u001b[43mr\u001b[49m\u001b[43m \u001b[49m\u001b[38;5;241;43m=\u001b[39;49m\u001b[43m \u001b[49m\u001b[38;5;241;43m0\u001b[39;49m\u001b[43m,\u001b[49m\u001b[43m \u001b[49m\u001b[38;5;241;43m1\u001b[39;49m\n",
      "Cell \u001b[1;32mIn[2], line 3\u001b[0m, in \u001b[0;36mSolution\u001b[1;34m()\u001b[0m\n\u001b[0;32m      2\u001b[0m \u001b[38;5;28;01mclass\u001b[39;00m \u001b[38;5;21;01mSolution\u001b[39;00m:\n\u001b[1;32m----> 3\u001b[0m     \u001b[38;5;28;01mdef\u001b[39;00m \u001b[38;5;21mmaxProfit\u001b[39m(\u001b[38;5;28mself\u001b[39m, prices: \u001b[43mList\u001b[49m[\u001b[38;5;28mint\u001b[39m]) \u001b[38;5;241m-\u001b[39m\u001b[38;5;241m>\u001b[39m \u001b[38;5;28mint\u001b[39m:\n\u001b[0;32m      4\u001b[0m         l, r \u001b[38;5;241m=\u001b[39m \u001b[38;5;241m0\u001b[39m, \u001b[38;5;241m1\u001b[39m\n\u001b[0;32m      5\u001b[0m         maxP \u001b[38;5;241m=\u001b[39m \u001b[38;5;241m0\u001b[39m\n",
      "\u001b[1;31mNameError\u001b[0m: name 'List' is not defined"
     ]
    }
   ],
   "source": [
    "### Best time to buy and sell stoc\n",
    "class Solution:\n",
    "    def maxProfit(self, prices: List[int]) -> int:\n",
    "        l, r = 0, 1\n",
    "        maxP = 0\n",
    "\n",
    "        for r in range(len(prices)):\n",
    "            if prices[l] < prices[r]:\n",
    "                profit = prices[r] - prices[l]\n",
    "                maxP = max(maxP, profit)\n",
    "            else:\n",
    "                l = r\n",
    "            \n",
    "            r += 1\n",
    "\n",
    "        return maxP"
   ]
  },
  {
   "cell_type": "code",
   "execution_count": null,
   "metadata": {},
   "outputs": [],
   "source": [
    "# Anagram = mean new word is made byusing the same char of the first word\n",
    "def are_anagrams(str1, str2):\n",
    "    # Remove any whitespace and convert strings to lowercase (optional)\n",
    "    str1 = str1.replace(\" \", \"\").lower()\n",
    "    str2 = str2.replace(\" \", \"\").lower()\n",
    "    \n",
    "    # Early exit if lengths differ\n",
    "    if len(str1) != len(str2):\n",
    "        return False\n",
    "\n",
    "    # Create dictionaries to count character occurrence\n",
    "    count1 = {}\n",
    "    count2 = {}\n",
    "\n",
    "    # Count characters in first string\n",
    "    for char in str1:\n",
    "        if char in count1:\n",
    "            count1[char] += 1\n",
    "        else:\n",
    "            count1[char] = 1\n",
    "\n",
    "    # Count characters in second string\n",
    "    for char in str2:\n",
    "        if char in count2:\n",
    "            count2[char] += 1\n",
    "        else:\n",
    "            count2[char] = 1\n",
    "\n",
    "    # Compare the two dictionaries\n",
    "    return count1 == count2\n"
   ]
  },
  {
   "cell_type": "code",
   "execution_count": null,
   "metadata": {},
   "outputs": [],
   "source": [
    "# Quick select\n",
    "import random\n",
    "\n",
    "def partition(nums, left, right):\n",
    "    pivot = nums[right]\n",
    "    p_index = left\n",
    "    for i in range(left, right):\n",
    "        if nums[i] > pivot:  # Sorting in descending order (for k-th largest)\n",
    "            nums[i], nums[p_index] = nums[p_index], nums[i]\n",
    "            p_index += 1\n",
    "    nums[p_index], nums[right] = nums[right], nums[p_index]\n",
    "    return p_index\n",
    "\n",
    "def quickselect(nums, left, right, k):\n",
    "    # If the list contains only one element\n",
    "    if left == right:\n",
    "        return nums[left]\n",
    "    \n",
    "    pivot_index = partition(nums, left, right)\n",
    "    \n",
    "    if k == pivot_index:\n",
    "        return nums[k]\n",
    "    elif k < pivot_index:\n",
    "        return quickselect(nums, left, pivot_index - 1, k)\n",
    "    else:\n",
    "        return quickselect(nums, pivot_index + 1, right, k)\n",
    "\n",
    "def find_kth_largest(nums, k):\n",
    "    # Convert k-th largest to k-th smallest by changing it to (len(nums) - k) for zero-based index\n",
    "    return quickselect(nums, 0, len(nums) - 1, k - 1)\n",
    "\n",
    "# Example usage\n",
    "nums = [3, 2, 1, 5, 6, 4]\n",
    "k = 2\n",
    "print(find_kth_largest(nums, k))  # Output: 5\n"
   ]
  },
  {
   "cell_type": "code",
   "execution_count": null,
   "metadata": {},
   "outputs": [],
   "source": []
  }
 ],
 "metadata": {
  "kernelspec": {
   "display_name": "Python 3",
   "language": "python",
   "name": "python3"
  },
  "language_info": {
   "codemirror_mode": {
    "name": "ipython",
    "version": 3
   },
   "file_extension": ".py",
   "mimetype": "text/x-python",
   "name": "python",
   "nbconvert_exporter": "python",
   "pygments_lexer": "ipython3",
   "version": "3.12.6"
  }
 },
 "nbformat": 4,
 "nbformat_minor": 2
}
