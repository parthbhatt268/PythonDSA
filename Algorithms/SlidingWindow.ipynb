{
 "cells": [
  {
   "cell_type": "code",
   "execution_count": null,
   "metadata": {},
   "outputs": [],
   "source": [
    "# Sliding Window\n",
    "\n",
    "# Limitataion - we can not use this when we have rnage of mix of negative and postive number boz then we dont know genrally if\n",
    "# rmeoving left or itgh would inc or dec the totoal window sum\n",
    "\n",
    "# Limitation: If the array contains negative numbers or unordered data, the sum/product within the window can fluctuate,\n",
    "# breaking the monotonic property. This makes sliding window unsuitable for such cases\n",
    "\n",
    "### We can use when asc pr desc or mixuture doesnt matter but all the number must be postive\n",
    "### Tp handle both posotive and negative number, the prefix sum with hash map is ideal\n",
    "\n",
    "# Two types\n",
    "#1. Variable length window\n",
    "#2. Fixed length window\n",
    "\n",
    "# Hints to look for\n",
    "# - Arrya/string is given as input\n",
    "# - Subarrya or Substring\n",
    "\n",
    "# When not to use this\n",
    "# - When the things given is sorted then only use two pointer and not sliding window\n",
    "\n",
    "# 1. In slidng window you will mostly keep l = 0 and then you will scroll the r point erover the array\n",
    "# 2. Always find the condiotn to shrink window as well while solving such question, like on\n",
    "# what condition will you shirnk the window size"
   ]
  },
  {
   "cell_type": "code",
   "execution_count": null,
   "metadata": {},
   "outputs": [],
   "source": [
    "# For vairable length window\n",
    "windowSize = ( Right - Left ) + 1"
   ]
  },
  {
   "cell_type": "code",
   "execution_count": null,
   "metadata": {},
   "outputs": [],
   "source": [
    "IMP\n",
    "# In slicing wibdow you will mostly  initalise the left point in the left and it will be most 0\n",
    "# right pointer will be in the for loop\n",
    "\n",
    "# e.g.\n",
    "l = 0\n",
    "for r in range(len(s)):\n",
    "    ..."
   ]
  },
  {
   "cell_type": "code",
   "execution_count": null,
   "metadata": {},
   "outputs": [],
   "source": [
    "IMP\n",
    "# Another important thing for sliding window is\n",
    "# we will take the right pointer and expand it to the right till the point the consition we are checking\n",
    "# is still valid one the consution is not valid we mail choose to now  left pointer to the rigth until the substring becomes valid again.\n"
   ]
  }
 ],
 "metadata": {
  "kernelspec": {
   "display_name": "Python 3",
   "language": "python",
   "name": "python3"
  },
  "language_info": {
   "codemirror_mode": {
    "name": "ipython",
    "version": 3
   },
   "file_extension": ".py",
   "mimetype": "text/x-python",
   "name": "python",
   "nbconvert_exporter": "python",
   "pygments_lexer": "ipython3",
   "version": "3.12.6"
  }
 },
 "nbformat": 4,
 "nbformat_minor": 2
}
