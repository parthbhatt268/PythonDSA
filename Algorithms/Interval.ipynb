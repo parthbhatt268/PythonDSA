{
 "cells": [
  {
   "cell_type": "code",
   "execution_count": null,
   "metadata": {},
   "outputs": [],
   "source": [
    "# When solving such problem, \n",
    "# when you ahve array of array like\n",
    "# intervals = [[1,2], [3,4], [5, 10]]\n",
    "# then you could use\n",
    "for start, end in intervals[1:]:\n",
    "    ..."
   ]
  }
 ],
 "metadata": {
  "language_info": {
   "name": "python"
  }
 },
 "nbformat": 4,
 "nbformat_minor": 2
}
