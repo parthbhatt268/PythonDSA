{
 "cells": [
  {
   "cell_type": "code",
   "execution_count": null,
   "metadata": {},
   "outputs": [],
   "source": [
    "### Question gto ask in intervier for such alogrithm\n",
    "# 1. Is the rray sorted\n",
    "# 2. Definantion of overlapping [1,4], [4,8] is this overlapping?\n",
    "#3. are there any nebagitve numbers or zeros?\n",
    "\n",
    "\n",
    "# When solving such problem, \n",
    "# when you have array of array like\n",
    "# intervals = [[1,2], [3,4], [5, 10]]\n",
    "# then you could use\n",
    "for start, end in intervals[1:]:\n",
    "    ...\n",
    "\n",
    "### SORT\n",
    "intervals.sort( key = lambda i:i[0])\n"
   ]
  },
  {
   "cell_type": "code",
   "execution_count": null,
   "metadata": {},
   "outputs": [],
   "source": []
  },
  {
   "cell_type": "code",
   "execution_count": null,
   "metadata": {},
   "outputs": [],
   "source": []
  }
 ],
 "metadata": {
  "kernelspec": {
   "display_name": "Python 3",
   "language": "python",
   "name": "python3"
  },
  "language_info": {
   "codemirror_mode": {
    "name": "ipython",
    "version": 3
   },
   "file_extension": ".py",
   "mimetype": "text/x-python",
   "name": "python",
   "nbconvert_exporter": "python",
   "pygments_lexer": "ipython3",
   "version": "3.12.6"
  }
 },
 "nbformat": 4,
 "nbformat_minor": 2
}
