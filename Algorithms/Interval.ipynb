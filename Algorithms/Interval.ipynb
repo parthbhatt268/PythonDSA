{
 "cells": [
  {
   "cell_type": "code",
   "execution_count": null,
   "metadata": {},
   "outputs": [
    {
     "ename": "NameError",
     "evalue": "name 'intervals' is not defined",
     "output_type": "error",
     "traceback": [
      "\u001b[1;31m---------------------------------------------------------------------------\u001b[0m",
      "\u001b[1;31mNameError\u001b[0m                                 Traceback (most recent call last)",
      "Cell \u001b[1;32mIn[1], line 6\u001b[0m\n\u001b[0;32m      1\u001b[0m \u001b[38;5;66;03m### Question gto ask in intervier for such alogrithm\u001b[39;00m\n\u001b[0;32m      2\u001b[0m \u001b[38;5;66;03m# When solving such problem, \u001b[39;00m\n\u001b[0;32m      3\u001b[0m \u001b[38;5;66;03m# when you have array of array like\u001b[39;00m\n\u001b[0;32m      4\u001b[0m \u001b[38;5;66;03m# intervals = [[1,2], [3,4], [5, 10]]\u001b[39;00m\n\u001b[0;32m      5\u001b[0m \u001b[38;5;66;03m# then you could use\u001b[39;00m\n\u001b[1;32m----> 6\u001b[0m \u001b[38;5;28;01mfor\u001b[39;00m start, end \u001b[38;5;129;01min\u001b[39;00m \u001b[43mintervals\u001b[49m[\u001b[38;5;241m1\u001b[39m:]:\n\u001b[0;32m      7\u001b[0m     \u001b[38;5;241m.\u001b[39m\u001b[38;5;241m.\u001b[39m\u001b[38;5;241m.\u001b[39m\n\u001b[0;32m      9\u001b[0m \u001b[38;5;66;03m### SORT\u001b[39;00m\n",
      "\u001b[1;31mNameError\u001b[0m: name 'intervals' is not defined"
     ]
    }
   ],
   "source": [
    "### Question gto ask in intervier for such alogrithm\n",
    "# 1. Is the rray sorted\n",
    "# 2. Definantion of overlapping [1,4], [4,8] is this overlapping?\n",
    "#3. are there any nebagitve numbers or zeros?\n",
    "\n",
    "\n",
    "# When solving such problem, \n",
    "# when you have array of array like\n",
    "# intervals = [[1,2], [3,4], [5, 10]]\n",
    "# then you could use\n",
    "for start, end in intervals[1:]:\n",
    "    ...\n",
    "\n",
    "### SORT\n",
    "intervals.sort( key = lambda i:i[0])\n"
   ]
  },
  {
   "cell_type": "code",
   "execution_count": null,
   "metadata": {},
   "outputs": [],
   "source": []
  },
  {
   "cell_type": "code",
   "execution_count": null,
   "metadata": {},
   "outputs": [],
   "source": []
  },
  {
   "cell_type": "code",
   "execution_count": null,
   "metadata": {},
   "outputs": [],
   "source": [
    "### Counter number of Ones in every number from 1 to n where n = 5\n",
    "\n",
    "class Solution:\n",
    "    def countBits(self, n: int) -> List[int]:\n",
    "        res = []\n",
    "\n",
    "        for i in range(n+1):\n",
    "            count = 0\n",
    "            while i != 0:\n",
    "                count += 1\n",
    "                i = i & (i-1)\n",
    "            res.append(count)\n",
    "            \n",
    "        return res"
   ]
  },
  {
   "cell_type": "code",
   "execution_count": null,
   "metadata": {},
   "outputs": [],
   "source": []
  }
 ],
 "metadata": {
  "kernelspec": {
   "display_name": "Python 3",
   "language": "python",
   "name": "python3"
  },
  "language_info": {
   "codemirror_mode": {
    "name": "ipython",
    "version": 3
   },
   "file_extension": ".py",
   "mimetype": "text/x-python",
   "name": "python",
   "nbconvert_exporter": "python",
   "pygments_lexer": "ipython3",
   "version": "3.12.6"
  }
 },
 "nbformat": 4,
 "nbformat_minor": 2
}
