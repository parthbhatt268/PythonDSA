{
 "cells": [
  {
   "cell_type": "code",
   "execution_count": null,
   "metadata": {},
   "outputs": [
    {
     "name": "stderr",
     "output_type": "stream",
     "text": [
      "<>:5: SyntaxWarning: 'int' object is not subscriptable; perhaps you missed a comma?\n",
      "<>:5: SyntaxWarning: 'int' object is not subscriptable; perhaps you missed a comma?\n",
      "C:\\Users\\parth\\AppData\\Local\\Temp\\ipykernel_23144\\3228671511.py:5: SyntaxWarning: 'int' object is not subscriptable; perhaps you missed a comma?\n",
      "  1 [1,2,3,4]\n"
     ]
    },
    {
     "ename": "TypeError",
     "evalue": "'int' object is not subscriptable",
     "output_type": "error",
     "traceback": [
      "\u001b[1;31m---------------------------------------------------------------------------\u001b[0m",
      "\u001b[1;31mTypeError\u001b[0m                                 Traceback (most recent call last)",
      "Cell \u001b[1;32mIn[2], line 5\u001b[0m\n\u001b[0;32m      1\u001b[0m \u001b[38;5;66;03m### Produxt of arrya expect self\u001b[39;00m\n\u001b[0;32m      2\u001b[0m \u001b[38;5;66;03m### [1,2,3,4]\u001b[39;00m\n\u001b[0;32m      3\u001b[0m \n\u001b[0;32m      4\u001b[0m \u001b[38;5;66;03m# first step will be to take prefix sum/product\u001b[39;00m\n\u001b[1;32m----> 5\u001b[0m \u001b[38;5;241;43m1\u001b[39;49m\u001b[43m \u001b[49m\u001b[43m[\u001b[49m\u001b[38;5;241;43m1\u001b[39;49m\u001b[43m,\u001b[49m\u001b[38;5;241;43m2\u001b[39;49m\u001b[43m,\u001b[49m\u001b[38;5;241;43m3\u001b[39;49m\u001b[43m,\u001b[49m\u001b[38;5;241;43m4\u001b[39;49m\u001b[43m]\u001b[49m\n\u001b[0;32m     10\u001b[0m \u001b[38;5;28;01mclass\u001b[39;00m \u001b[38;5;21;01mSolution\u001b[39;00m:\n\u001b[0;32m     11\u001b[0m     \u001b[38;5;28;01mdef\u001b[39;00m \u001b[38;5;21mproductExceptSelf\u001b[39m(\u001b[38;5;28mself\u001b[39m, nums: List[\u001b[38;5;28mint\u001b[39m]) \u001b[38;5;241m-\u001b[39m\u001b[38;5;241m>\u001b[39m List[\u001b[38;5;28mint\u001b[39m]:\n\u001b[0;32m     12\u001b[0m         \u001b[38;5;66;03m# prefix sum\u001b[39;00m\n",
      "\u001b[1;31mTypeError\u001b[0m: 'int' object is not subscriptable"
     ]
    }
   ],
   "source": [
    "### Produxt of arrya expect self\n",
    "### [1,2,3,4]\n",
    "\n",
    "# first step will be to take prefix sum/product\n",
    "prefix = @1\n",
    "@1 [1,2,3,4]\n",
    "whaterver is there in prefix  will go in the postion i\n",
    "now in every iteration we will mulitple the nums[i] to update the prefix 1@ value and then in next iteration we will put that valur in the num[i] place\n",
    "\n",
    "\n",
    "class Solution:\n",
    "    def productExceptSelf(self, nums: List[int]) -> List[int]:\n",
    "        # prefix sum\n",
    "        res = [1] * len(nums)\n",
    "        prefix = 1\n",
    "\n",
    "        for i in range(len(nums)):\n",
    "            res[i] = prefix\n",
    "            prefix *= nums[i]\n",
    "        \n",
    "        suffix = 1\n",
    "\n",
    "        for i in range(len(nums) - 1, -1, -1):\n",
    "            res[i] *= suffix\n",
    "            suffix *= nums[i]\n",
    "        \n",
    "        return res\n"
   ]
  },
  {
   "cell_type": "code",
   "execution_count": null,
   "metadata": {},
   "outputs": [],
   "source": []
  }
 ],
 "metadata": {
  "kernelspec": {
   "display_name": "Python 3",
   "language": "python",
   "name": "python3"
  },
  "language_info": {
   "codemirror_mode": {
    "name": "ipython",
    "version": 3
   },
   "file_extension": ".py",
   "mimetype": "text/x-python",
   "name": "python",
   "nbconvert_exporter": "python",
   "pygments_lexer": "ipython3",
   "version": "3.12.6"
  }
 },
 "nbformat": 4,
 "nbformat_minor": 2
}
