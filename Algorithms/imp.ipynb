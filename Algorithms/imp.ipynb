{
 "cells": [
  {
   "cell_type": "code",
   "execution_count": null,
   "metadata": {},
   "outputs": [],
   "source": [
    "### Produxt of arrya expect self\n",
    "### [1,2,3,4]\n",
    "\n",
    "# first step will be to take prefix sum/product\n",
    "prefix = @1\n",
    "@1 [1,2,3,4]\n",
    "whaterver is there in prefix  will go in the postion i\n",
    "now in every iteration we will mulitple the nums[i] to update the prefix 1@ value and then in next iteration we will put that valur in the num[i] place\n",
    "\n",
    "\n",
    "class Solution:\n",
    "    def productExceptSelf(self, nums: List[int]) -> List[int]:\n",
    "        # prefix sum\n",
    "        res = [1] * len(nums)\n",
    "        prefix = 1\n",
    "\n",
    "        for i in range(len(nums)):\n",
    "            res[i] = prefix\n",
    "            prefix *= nums[i]\n",
    "        \n",
    "        suffix = 1\n",
    "\n",
    "        for i in range(len(nums) - 1, -1, -1):\n",
    "            res[i] *= suffix\n",
    "            suffix *= nums[i]\n",
    "        \n",
    "        return res\n"
   ]
  },
  {
   "cell_type": "code",
   "execution_count": null,
   "metadata": {},
   "outputs": [],
   "source": []
  }
 ],
 "metadata": {
  "kernelspec": {
   "display_name": "Python 3",
   "language": "python",
   "name": "python3"
  },
  "language_info": {
   "codemirror_mode": {
    "name": "ipython",
    "version": 3
   },
   "file_extension": ".py",
   "mimetype": "text/x-python",
   "name": "python",
   "nbconvert_exporter": "python",
   "pygments_lexer": "ipython3",
   "version": "3.12.6"
  }
 },
 "nbformat": 4,
 "nbformat_minor": 2
}
