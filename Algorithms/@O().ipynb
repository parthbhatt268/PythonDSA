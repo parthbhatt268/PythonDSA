{
 "cells": [
  {
   "cell_type": "code",
   "execution_count": null,
   "metadata": {},
   "outputs": [],
   "source": [
    "Tim sort algo --- nums.sort() /// sorted(nums) -  TC - O(nlogn) | SC - O(n)\n",
    "\n",
    "\n",
    "\n",
    "\n",
    "Heap - \n",
    "Finding min/max -                O(1)\n",
    "Converting normal arr in Heap -  O(n) \n",
    "Appending/poping -               O(log n)\n",
    "\n",
    " \n"
   ]
  }
 ],
 "metadata": {
  "language_info": {
   "name": "python"
  }
 },
 "nbformat": 4,
 "nbformat_minor": 2
}
