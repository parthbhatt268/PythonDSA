{
 "cells": [
  {
   "cell_type": "code",
   "execution_count": null,
   "metadata": {},
   "outputs": [],
   "source": [
    "Tim sort algo --- nums.sort() /// sorted(nums) -  TC - O(nlogn) | SC - O(n)\n",
    "\n",
    "\n",
    "\n",
    "\n",
    "Heap - \n",
    "Finding min - \n",
    "Appending/poping - \n",
    "\n",
    " \n"
   ]
  }
 ],
 "metadata": {
  "language_info": {
   "name": "python"
  }
 },
 "nbformat": 4,
 "nbformat_minor": 2
}
