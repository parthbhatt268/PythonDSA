{
 "cells": [
  {
   "cell_type": "markdown",
   "metadata": {},
   "source": [
    "# Heap"
   ]
  },
  {
   "cell_type": "markdown",
   "metadata": {},
   "source": [
    "Two types\n",
    "1. Min Heap\n",
    "2. Max Heap\n",
    "\n",
    "Operation cost\n",
    "Add/remove elemnt from the heap - O(log n)\n",
    "Find min/max in the heap - O(1)"
   ]
  },
  {
   "cell_type": "markdown",
   "metadata": {},
   "source": []
  }
 ],
 "metadata": {
  "language_info": {
   "name": "python"
  }
 },
 "nbformat": 4,
 "nbformat_minor": 2
}
