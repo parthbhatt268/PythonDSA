{
 "cells": [
  {
   "cell_type": "markdown",
   "metadata": {},
   "source": [
    "# Heap"
   ]
  },
  {
   "cell_type": "markdown",
   "metadata": {},
   "source": [
    "Two types -\n",
    "1. Min Heap\n",
    "2. Max Heap\n",
    "\n",
    "Operation cost\n",
    "Add/remove elemnt from the heap - O(log n)\n",
    "Find min/max in the heap - O(1)"
   ]
  },
  {
   "cell_type": "markdown",
   "metadata": {},
   "source": [
    "    ### 295.Find median from a data stream"
   ]
  },
  {
   "cell_type": "code",
   "execution_count": null,
   "metadata": {},
   "outputs": [],
   "source": [
    "class MedianFinder:\n",
    "\n",
    "    def __init__(self):\n",
    "        self.data = []\n",
    "\n",
    "    def addNum(self, num: int) -> None:\n",
    "        self.data.append(num)\n",
    "\n",
    "    def findMedian(self) -> float:\n",
    "        self.data.sort()\n",
    "        n = len(self.data)\n",
    "\n",
    "        return self.data[n//2] if n&1 else (self.data[n//2] + self.data[n//2-1])/2\n",
    "    \n"
   ]
  },
  {
   "cell_type": "markdown",
   "metadata": {},
   "source": []
  }
 ],
 "metadata": {
  "language_info": {
   "name": "python"
  }
 },
 "nbformat": 4,
 "nbformat_minor": 2
}
