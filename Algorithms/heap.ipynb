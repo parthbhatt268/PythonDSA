{
 "cells": [
  {
   "cell_type": "markdown",
   "metadata": {},
   "source": [
    "# Heap"
   ]
  },
  {
   "cell_type": "markdown",
   "metadata": {},
   "source": [
    "Two types -\n",
    "1. Min Heap\n",
    "2. Max Heap - Py doesnt have max heap so we alway use min heap and trick it to work as max heap\n",
    "\n",
    "Operation cost\n",
    "- when you do #heapq.heapify(arr) #  to convert normal arrays to heap the it takes O(n) time\n",
    "- Add/remove elemnt from the heap - O(log n)\n",
    "- Find min/max in the heap - O(1)\n",
    "\n",
    "a = -10\n",
    "print(abs(a)) # 10\n"
   ]
  },
  {
   "cell_type": "markdown",
   "metadata": {},
   "source": [
    "    ### 295.Find median from a data stream"
   ]
  },
  {
   "cell_type": "code",
   "execution_count": null,
   "metadata": {},
   "outputs": [],
   "source": [
    "class MedianFinder:\n",
    "\n",
    "    def __init__(self):\n",
    "        self.data = []\n",
    "\n",
    "    def addNum(self, num: int) -> None:\n",
    "        self.data.append(num)\n",
    "\n",
    "    def findMedian(self) -> float:\n",
    "        self.data.sort()\n",
    "        n = len(self.data)\n",
    "\n",
    "        return self.data[n//2] if n&1 else (self.data[n//2] + self.data[n//2-1])/2\n",
    "    \n"
   ]
  },
  {
   "cell_type": "markdown",
   "metadata": {},
   "source": [
    "703. K-th largest element in the stream"
   ]
  },
  {
   "cell_type": "code",
   "execution_count": null,
   "metadata": {},
   "outputs": [],
   "source": [
    "### Bascially we have to right two things one is constructor function and fucntion to add\n",
    "### add value to the stream\n",
    "### We used heap boz add/pop is logn and finding min is o(1)\n",
    "### So what we do is simple we take nums given as input and form a normal array and then we heapify it to make it heap\n",
    "### then we pop element untill there ar eonly K elements are there in the heap\n",
    "### then while adding stream of value to the heap one edge is that check is heap has min k value before poping\n",
    "\n",
    "\n",
    "\n",
    "class KthLargest:\n",
    "    \n",
    "    def __init__(self, k: int, nums: List[int]):\n",
    "        self.minHeap, self.k = nums, k\n",
    "        heapq.heapify(self.minHeap)\n",
    "        while len(self.minHeap) > k:\n",
    "            heapq.heappop(self.minHeap)\n",
    "            \n",
    "\n",
    "    def add(self, val: int) -> int:\n",
    "        heapq.heappush(self.minHeap, val)\n",
    "        if len(self.minHeap) > self.k:\n",
    "            heapq.heappop(self.minHeap)\n",
    "        return self.minHeap[0]"
   ]
  },
  {
   "cell_type": "code",
   "execution_count": null,
   "metadata": {},
   "outputs": [],
   "source": [
    "# Last stone weight\n",
    "class Solution:\n",
    "    def lastStoneWeight(self, stones: List[int]) -> int:\n",
    "        stones = [-s for s in stones]\n",
    "        heapq.heapify(stones)\n",
    "\n",
    "        while len(stones) > 1:\n",
    "            first = heapq.heappop(stones)\n",
    "            second = heapq.heappop(stones)\n",
    "            if second > first:\n",
    "                heapq.heappush(stones, first - second)\n",
    "\n",
    "        stones.append(0)\n",
    "        return abs(stones[0])"
   ]
  }
 ],
 "metadata": {
  "language_info": {
   "name": "python"
  }
 },
 "nbformat": 4,
 "nbformat_minor": 2
}
