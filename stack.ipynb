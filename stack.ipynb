{
 "cells": [
  {
   "cell_type": "code",
   "execution_count": null,
   "metadata": {},
   "outputs": [],
   "source": [
    "# Valid parenthese\n",
    "\n",
    "class Solution:\n",
    "    def isValid(self, s: str) -> bool:\n",
    "        Map = {\")\": \"(\", \"]\": \"[\", \"}\": \"{\"} # this added here since we have to not match opening bracket with \n",
    "        # opening but we have to match with closing hence for \n",
    "        # reference like for this opening we will need this closing etc we have kept the map for reference\n",
    "        stack = []\n",
    "\n",
    "        for c in s:\n",
    "            if c not in Map: # if char is not in Map i.e this only checks the keys in MAP so if current c is \n",
    "                # not closing bracket the its a closing bracket i.e. its a oprning bracket hence append to stack\n",
    "                stack.append(c)\n",
    "                continue\n",
    "            if not stack or stack[-1] != Map[c]: # if stack is no empty or stack top is not matching\n",
    "                # the corresponding closing tag then return false\n",
    "                return False\n",
    "            stack.pop() # means its matching closing bracket found hence pop it\n",
    "\n",
    "        return not stack # means if stack is full return false as there is missing closing or opening tag \n",
    "    # else if empty then everyone found a pair\n",
    "\n",
    "    \n",
    "\n"
   ]
  }
 ],
 "metadata": {
  "language_info": {
   "name": "python"
  }
 },
 "nbformat": 4,
 "nbformat_minor": 2
}
