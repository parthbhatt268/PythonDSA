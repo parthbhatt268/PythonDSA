{
 "cells": [
  {
   "cell_type": "code",
   "execution_count": null,
   "metadata": {},
   "outputs": [],
   "source": [
    "### Reverse a binary tree\n",
    "# Definition for a binary tree node.\n",
    "# class TreeNode:\n",
    "#     def __init__(self, val=0, left=None, right=None):\n",
    "#         self.val = val\n",
    "#         self.left = left\n",
    "#         self.right = right\n",
    "class Solution:\n",
    "    def invertTree(self, root: Optional[TreeNode]) -> Optional[TreeNode]:\n",
    "        if root == None:\n",
    "            return None\n",
    "        \n",
    "        # Swap the child\n",
    "        tmp = root.left\n",
    "        root.left = root.right\n",
    "        root.right = tmp\n",
    "\n",
    "        self.invertTree(root.left)\n",
    "        self.invertTree(root.right)\n",
    "\n",
    "        return root"
   ]
  },
  {
   "cell_type": "code",
   "execution_count": null,
   "metadata": {},
   "outputs": [],
   "source": [
    "### 3 ways to traverse a tree is \n",
    "# 1. Iterative depth first serahc\n",
    "# 2. Recursiev depth first search\n",
    "# 3. Breadth first search\n"
   ]
  },
  {
   "cell_type": "code",
   "execution_count": null,
   "metadata": {},
   "outputs": [],
   "source": [
    "# Max length of tree\n",
    "\n",
    "# 1. DFS depth first serach Recursive\n",
    "class Solution:\n",
    "    def maxDepth(self, root: Optional[TreeNode]) -> int:\n",
    "        if root == None:\n",
    "            return 0\n",
    "\n",
    "        return 1 + max(self.maxDepth(root.left), self.maxDepth(root.right))\n",
    "    \n",
    "# 2. BFS Breath first search\n",
    "class Solution:\n",
    "    def maxDepth(self, root: TreeNode) -> int:\n",
    "        if not root:\n",
    "            return 0\n",
    "        \n",
    "        level = 0\n",
    "        q = deque([root])  # Initialize the queue with the root node\n",
    "        \n",
    "        while q:\n",
    "            level += 1  # Increase depth for each level\n",
    "            for i in range(len(q)):\n",
    "                node = q.popleft()  # Dequeue the front node\n",
    "                if node.left:\n",
    "                    q.append(node.left)  # Add left child to the queue\n",
    "                if node.right:\n",
    "                    q.append(node.right)  # Add right child to the queue\n",
    "        \n",
    "        return level\n",
    "    \n",
    "# 3. DFS iteratively\n",
    "PRE ORDER DFS --> IMP\n",
    "\n",
    "class Solution:\n",
    "    def maxDepth(self, root: TreeNode) -> int:\n",
    "        stack = [[root, 1]]  # Initialize the stack with the root node and its depth\n",
    "        res = 0\n",
    "        \n",
    "        while stack:\n",
    "            node, depth = stack.pop()  # Pop the top node and its depth\n",
    "            if node:\n",
    "                res = max(res, depth)  # Update the maximum depth found\n",
    "                stack.append([node.left, depth + 1])  # Push left child and increment depth\n",
    "                stack.append([node.right, depth + 1])  # Push right child and increment depth\n",
    "        \n",
    "        return res"
   ]
  }
 ],
 "metadata": {
  "language_info": {
   "name": "python"
  }
 },
 "nbformat": 4,
 "nbformat_minor": 2
}
