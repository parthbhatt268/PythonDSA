{
 "cells": [
  {
   "cell_type": "code",
   "execution_count": 1,
   "metadata": {},
   "outputs": [
    {
     "name": "stdout",
     "output_type": "stream",
     "text": [
      "10\n"
     ]
    }
   ],
   "source": [
    "### Space complexcity will be log n for balance tree and o(n) for non balance tree\n",
    "### Diamter of tree at that particular root is addition of height from left and right\n",
    "### if you have nested function and if you define a variable in python in outer fucntion and want to use that in\n",
    "# inner nested fucntion then, you might use\n",
    "def outer():\n",
    "    x = 10\n",
    "    def inner():\n",
    "        nonlocal x\n",
    "        print(x)\n",
    "    inner()\n",
    "outer()"
   ]
  },
  {
   "cell_type": "code",
   "execution_count": null,
   "metadata": {},
   "outputs": [],
   "source": [
    "### Reverse a binary tree\n",
    "# Definition for a binary tree node.\n",
    "# class TreeNode:\n",
    "#     def __init__(self, val=0, left=None, right=None):\n",
    "#         self.val = val\n",
    "#         self.left = left\n",
    "#         self.right = right\n",
    "class Solution:\n",
    "    def invertTree(self, root: Optional[TreeNode]) -> Optional[TreeNode]:\n",
    "        if root == None:\n",
    "            return None\n",
    "        \n",
    "        # Swap the child\n",
    "        tmp = root.left\n",
    "        root.left = root.right\n",
    "        root.right = tmp\n",
    "\n",
    "        self.invertTree(root.left)\n",
    "        self.invertTree(root.right)\n",
    "\n",
    "        return root"
   ]
  },
  {
   "cell_type": "code",
   "execution_count": null,
   "metadata": {},
   "outputs": [],
   "source": [
    "### 3 ways to traverse a tree is \n",
    "# 1. Iterative depth first serahc\n",
    "# 2. Recursiev depth first search\n",
    "# 3. Breadth first search\n"
   ]
  },
  {
   "cell_type": "code",
   "execution_count": null,
   "metadata": {},
   "outputs": [],
   "source": [
    "# Max length of tree\n",
    "\n",
    "# 1. DFS depth first serach Recursive\n",
    "class Solution:\n",
    "    def maxDepth(self, root: Optional[TreeNode]) -> int:\n",
    "        if root == None:\n",
    "            return 0\n",
    "\n",
    "        return 1 + max(self.maxDepth(root.left), self.maxDepth(root.right))\n",
    "    \n",
    "# 2. BFS Breath first search\n",
    "class Solution:\n",
    "    def maxDepth(self, root: TreeNode) -> int:\n",
    "        if not root:\n",
    "            return 0\n",
    "        \n",
    "        level = 0\n",
    "        q = deque([root])  # Initialize the queue with the root node\n",
    "        \n",
    "        while q:\n",
    "            level += 1  # Increase depth for each level\n",
    "            for i in range(len(q)):\n",
    "                node = q.popleft()  # Dequeue the front node\n",
    "                if node.left:\n",
    "                    q.append(node.left)  # Add left child to the queue\n",
    "                if node.right:\n",
    "                    q.append(node.right)  # Add right child to the queue\n",
    "        \n",
    "        return level\n",
    "    \n",
    "# 3. DFS iteratively\n",
    "PRE ORDER DFS --> IMP\n",
    "\n",
    "class Solution:\n",
    "    def maxDepth(self, root: TreeNode) -> int:\n",
    "        stack = [[root, 1]]  # Initialize the stack with the root node and its depth\n",
    "        res = 0\n",
    "        \n",
    "        while stack:\n",
    "            node, depth = stack.pop()  # Pop the top node and its depth\n",
    "            if node:\n",
    "                res = max(res, depth)  # Update the maximum depth found\n",
    "                stack.append([node.left, depth + 1])  # Push left child and increment depth\n",
    "                stack.append([node.right, depth + 1])  # Push right child and increment depth\n",
    "        \n",
    "        return res"
   ]
  },
  {
   "cell_type": "code",
   "execution_count": null,
   "metadata": {},
   "outputs": [],
   "source": [
    "### Diameter of Binary tree\n",
    "class Solution:\n",
    "    def diameterOfBinaryTree(self, root: Optional[TreeNode]) -> int:\n",
    "        res = 0\n",
    "\n",
    "        #returns height and if bigger diameter is found it will replace in res\n",
    "        def dfs (curr):\n",
    "            if curr == None:\n",
    "                return 0\n",
    "                        \n",
    "            left = dfs(curr.left)\n",
    "            right = dfs(curr.right)\n",
    "\n",
    "            nonlocal res\n",
    "            res = max(res, left + right)\n",
    "            return 1 + max(left, right)\n",
    "\n",
    "        dfs(root)\n",
    "\n",
    "        return res"
   ]
  }
 ],
 "metadata": {
  "kernelspec": {
   "display_name": "Python 3",
   "language": "python",
   "name": "python3"
  },
  "language_info": {
   "codemirror_mode": {
    "name": "ipython",
    "version": 3
   },
   "file_extension": ".py",
   "mimetype": "text/x-python",
   "name": "python",
   "nbconvert_exporter": "python",
   "pygments_lexer": "ipython3",
   "version": "3.12.6"
  }
 },
 "nbformat": 4,
 "nbformat_minor": 2
}
