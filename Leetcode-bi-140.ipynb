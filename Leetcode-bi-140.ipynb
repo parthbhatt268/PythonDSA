{
 "cells": [
  {
   "cell_type": "code",
   "execution_count": 2,
   "metadata": {},
   "outputs": [],
   "source": [
    "class Solution:\n",
    "    def minElement(self, nums: list[int]) -> int:\n",
    "        def digit_sum(num):\n",
    "            total = 0\n",
    "            while num > 0:\n",
    "                total += num % 10\n",
    "                num //= 10\n",
    "            return total\n",
    "\n",
    "        transformed_nums = [digit_sum(num) for num in nums]\n",
    "        \n",
    "        return min(transformed_nums)"
   ]
  },
  {
   "cell_type": "code",
   "execution_count": null,
   "metadata": {},
   "outputs": [],
   "source": [
    "class Solution:\n",
    "    def maximumTotalSum(self, maximumHeight: list[int]) -> int:\n",
    "        maximumHeight.sort(reverse=True)\n",
    "\n",
    "        last_assigned_height = float('inf')\n",
    "        total_sum = 0\n",
    "\n",
    "        for height in maximumHeight:\n",
    "            if last_assigned_height > height:\n",
    "                assigned_height = height\n",
    "            else:\n",
    "                assigned_height = last_assigned_height - 1\n",
    "            \n",
    "            if assigned_height <= 0:\n",
    "                return -1\n",
    "            \n",
    "            total_sum += assigned_height\n",
    "            last_assigned_height = assigned_height\n",
    "        \n",
    "        return total_sum\n"
   ]
  },
  {
   "cell_type": "code",
   "execution_count": null,
   "metadata": {},
   "outputs": [],
   "source": []
  }
 ],
 "metadata": {
  "kernelspec": {
   "display_name": "Python 3",
   "language": "python",
   "name": "python3"
  },
  "language_info": {
   "codemirror_mode": {
    "name": "ipython",
    "version": 3
   },
   "file_extension": ".py",
   "mimetype": "text/x-python",
   "name": "python",
   "nbconvert_exporter": "python",
   "pygments_lexer": "ipython3",
   "version": "3.12.6"
  }
 },
 "nbformat": 4,
 "nbformat_minor": 2
}
