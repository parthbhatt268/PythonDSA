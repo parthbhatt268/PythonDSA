{
 "cells": [
  {
   "cell_type": "code",
   "execution_count": null,
   "metadata": {},
   "outputs": [],
   "source": [
    "# Heap - \n",
    "heapq.heappush(from_arr)\n",
    "heapq.heappop(from_arr)\n",
    "\n",
    "# Deque - \n",
    "q = deque()\n",
    "q.append(from_arr)\n",
    "q.popleft()"
   ]
  }
 ],
 "metadata": {
  "language_info": {
   "name": "python"
  }
 },
 "nbformat": 4,
 "nbformat_minor": 2
}
