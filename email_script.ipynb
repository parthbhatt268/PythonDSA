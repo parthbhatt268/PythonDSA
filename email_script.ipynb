{
 "cells": [
  {
   "cell_type": "code",
   "execution_count": 22,
   "metadata": {},
   "outputs": [
    {
     "name": "stdout",
     "output_type": "stream",
     "text": [
      "Today's date: 2025-01-11\n",
      "\n",
      "=== Email-Ready Content ===\n",
      "\n",
      "\n",
      "        <h1>Binary Search</h1>\n",
      "        <h2>DSA Solution</h2>\n",
      "        <pre style=\"background-color: #f4f4f4; padding: 10px; border-radius: 5px;\">\n",
      "def binary_search(arr, target):\n",
      "    left, right = 0, len(arr) - 1\n",
      "    while left <= right:\n",
      "        mid = (left + right) // 2\n",
      "        if arr[mid] == target:\n",
      "            return mid\n",
      "        elif arr[mid] < target:\n",
      "            left = mid + 1\n",
      "        else:\n",
      "            right = mid - 1\n",
      "    return -1\n",
      "        </pre>\n",
      "        <h2>Notes</h2>\n",
      "        <ul>\n",
      "<li>Binary search is efficient for sorted arrays.</li>\n",
      "<li>Time complexity: O(log n).</li>\n",
      "<li>Space complexity: O(1).</li>\n",
      "<li>Handle edge cases like empty arrays and targets not found in the array.</li>\n",
      "</ul>\n"
     ]
    }
   ],
   "source": [
    "import json\n",
    "import datetime\n",
    "\n",
    "# Path to the JSON file\n",
    "json_file_path = 'notes.json'\n",
    "\n",
    "# Step 1: Load the JSON file\n",
    "with open(json_file_path, 'r', encoding='utf-8') as f:\n",
    "    notes_data = json.load(f)\n",
    "\n",
    "# Step 2: Get today's date in YYYY-MM-DD format\n",
    "today = datetime.date.today().strftime('%Y-%m-%d')\n",
    "print(\"Today's date:\", today)\n",
    "\n",
    "# Step 3: Find today's notes\n",
    "found_today = False\n",
    "\n",
    "for note in notes_data:\n",
    "    if note['date'] == today:\n",
    "        found_today = True\n",
    "        # Polished email-friendly output\n",
    "        email_content = f\"\"\"\n",
    "        <h1>{note['title']}</h1>\n",
    "        <h2>DSA Solution</h2>\n",
    "        <pre style=\"background-color: #f4f4f4; padding: 10px; border-radius: 5px;\">\n",
    "{note['dsa_solution']}\n",
    "        </pre>\n",
    "        <h2>Notes</h2>\n",
    "        <ul>\n",
    "\"\"\"\n",
    "        for line in note['notes']:\n",
    "            email_content += f\"<li>{line}</li>\\n\"\n",
    "        email_content += \"</ul>\"\n",
    "\n",
    "        print(\"\\n=== Email-Ready Content ===\\n\")\n",
    "        print(email_content)\n",
    "        break\n",
    "\n",
    "if not found_today:\n",
    "    print(f\"No notes found for today's date ({today}).\")\n"
   ]
  },
  {
   "cell_type": "code",
   "execution_count": null,
   "metadata": {},
   "outputs": [],
   "source": []
  },
  {
   "cell_type": "code",
   "execution_count": null,
   "metadata": {},
   "outputs": [],
   "source": []
  }
 ],
 "metadata": {
  "kernelspec": {
   "display_name": "Python 3",
   "language": "python",
   "name": "python3"
  },
  "language_info": {
   "codemirror_mode": {
    "name": "ipython",
    "version": 3
   },
   "file_extension": ".py",
   "mimetype": "text/x-python",
   "name": "python",
   "nbconvert_exporter": "python",
   "pygments_lexer": "ipython3",
   "version": "3.12.6"
  }
 },
 "nbformat": 4,
 "nbformat_minor": 2
}
