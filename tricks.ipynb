{
 "cells": [
  {
   "cell_type": "code",
   "execution_count": 2,
   "metadata": {},
   "outputs": [
    {
     "name": "stdout",
     "output_type": "stream",
     "text": [
      "Not Reverse:  [1, 3, 4, 6, 7]\n",
      "Reverse:  [7, 6, 4, 3, 1]\n"
     ]
    }
   ],
   "source": [
    "# Sort in ascending\n",
    "a = [1,3,4,6,7]\n",
    "\n",
    "print(\"Not Reverse: \",a[::1])\n",
    "print(\"Reverse: \",a[::-1])"
   ]
  },
  {
   "cell_type": "code",
   "execution_count": null,
   "metadata": {},
   "outputs": [],
   "source": [
    "# MIghted used inBinary serach while finding mid\n",
    "\n",
    "mid = low + ((high - low) // 2)\n"
   ]
  }
 ],
 "metadata": {
  "kernelspec": {
   "display_name": "base",
   "language": "python",
   "name": "python3"
  },
  "language_info": {
   "codemirror_mode": {
    "name": "ipython",
    "version": 3
   },
   "file_extension": ".py",
   "mimetype": "text/x-python",
   "name": "python",
   "nbconvert_exporter": "python",
   "pygments_lexer": "ipython3",
   "version": "3.11.5"
  }
 },
 "nbformat": 4,
 "nbformat_minor": 2
}
