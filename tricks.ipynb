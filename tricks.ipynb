{
 "cells": [
  {
   "cell_type": "code",
   "execution_count": 2,
   "metadata": {},
   "outputs": [
    {
     "name": "stdout",
     "output_type": "stream",
     "text": [
      "Not Reverse:  [1, 10, 3, 4, 6, 7]\n",
      "Reverse:  [7, 6, 4, 3, 10, 1]\n",
      "[1, 3, 4, 6, 7, 10]\n",
      "[10, 7, 6, 4, 3, 1]\n"
     ]
    }
   ],
   "source": [
    "# Sort in ascending\n",
    "a = [1,10, 3,4,6,7]\n",
    "\n",
    "print(\"Not Reverse: \",a[::1])\n",
    "print(\"Reverse: \",a[::-1])\n",
    "\n",
    "a.sort() # Ascending\n",
    "print(a)\n",
    "a.sort(reverse=True) # Descending\n",
    "print(a)\n"
   ]
  },
  {
   "cell_type": "code",
   "execution_count": null,
   "metadata": {},
   "outputs": [
    {
     "ename": "",
     "evalue": "",
     "output_type": "error",
     "traceback": [
      "\u001b[1;31mThe kernel failed to start as the Python Environment 'Python' is no longer available. Consider selecting another kernel or refreshing the list of Python Environments."
     ]
    }
   ],
   "source": [
    "# MIghted used inBinary serach while finding mid\n",
    "\n",
    "mid = low + ((high - low) // 2)\n"
   ]
  },
  {
   "cell_type": "code",
   "execution_count": null,
   "metadata": {},
   "outputs": [],
   "source": [
    "### Linked list\n",
    "\n",
    "        if not head or not head.next:\n",
    "            return False"
   ]
  },
  {
   "cell_type": "code",
   "execution_count": null,
   "metadata": {},
   "outputs": [],
   "source": [
    "### General\n",
    "        while l1 or l2 or carry:\n",
    "            v1 = l1.val if l1 else 0\n",
    "            v2 = l2.val if l2 else 0\n",
    "            \n",
    "        ## Might be used like v1 = l1.val if in case l1 is defined else take it as zero\n",
    "        ## Same as v2 as well is l2 is defined that take l2.val else take zero"
   ]
  }
 ],
 "metadata": {
  "kernelspec": {
   "display_name": "base",
   "language": "python",
   "name": "python3"
  },
  "language_info": {
   "codemirror_mode": {
    "name": "ipython",
    "version": 3
   },
   "file_extension": ".py",
   "mimetype": "text/x-python",
   "name": "python",
   "nbconvert_exporter": "python",
   "pygments_lexer": "ipython3",
   "version": "3.12.6"
  }
 },
 "nbformat": 4,
 "nbformat_minor": 2
}
