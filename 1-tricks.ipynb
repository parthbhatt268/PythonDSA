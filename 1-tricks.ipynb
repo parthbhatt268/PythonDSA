{
 "cells": [
  {
   "cell_type": "code",
   "execution_count": 4,
   "metadata": {},
   "outputs": [
    {
     "name": "stdout",
     "output_type": "stream",
     "text": [
      "11\n",
      "8\n"
     ]
    }
   ],
   "source": [
    "##Lenght of String\n",
    "z = 'HelloWorld' # No space\n",
    "a = 'Hello world'\n",
    "b = 'Hello123' # No space as well\n",
    "print(len(a))\n",
    "print(len(b))"
   ]
  },
  {
   "cell_type": "code",
   "execution_count": 5,
   "metadata": {},
   "outputs": [
    {
     "name": "stdout",
     "output_type": "stream",
     "text": [
      "dlrow olleH\n"
     ]
    }
   ],
   "source": [
    "## Reverse a string\n",
    "print(a[::-1])"
   ]
  },
  {
   "cell_type": "code",
   "execution_count": 6,
   "metadata": {},
   "outputs": [
    {
     "name": "stdout",
     "output_type": "stream",
     "text": [
      "HELLO WORLD\n",
      "hello world\n",
      "False\n",
      "False\n",
      "False\n",
      "True\n"
     ]
    }
   ],
   "source": [
    "## Upper and lower case string\n",
    "print(a.upper())\n",
    "print(a.lower())\n",
    "\n",
    "print(a.isalpha())\n",
    "print(b.isalpha())\n",
    "print(b.isdigit())\n",
    "print(z.isalpha())\n"
   ]
  },
  {
   "cell_type": "code",
   "execution_count": null,
   "metadata": {},
   "outputs": [],
   "source": [
    "## 2 Sum leetcod equestion is solved using map\n",
    "## 2 Sum II (two) is sloved using 2 pointers\n",
    "## 3 Sum is solved using setting first variable as First number and in rest 2 place finding all other using 2 sum (two) 2 pointer method,\n",
    "## also the trcik here is to SORT first so if next number is similar is to previous number we basically skip it to avoid duplicate same sets"
   ]
  }
 ],
 "metadata": {
  "kernelspec": {
   "display_name": "base",
   "language": "python",
   "name": "python3"
  },
  "language_info": {
   "codemirror_mode": {
    "name": "ipython",
    "version": 3
   },
   "file_extension": ".py",
   "mimetype": "text/x-python",
   "name": "python",
   "nbconvert_exporter": "python",
   "pygments_lexer": "ipython3",
   "version": "3.11.5"
  }
 },
 "nbformat": 4,
 "nbformat_minor": 2
}
