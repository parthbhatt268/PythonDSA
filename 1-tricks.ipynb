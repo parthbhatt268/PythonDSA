{
 "cells": [
  {
   "cell_type": "code",
   "execution_count": 4,
   "metadata": {},
   "outputs": [
    {
     "name": "stdout",
     "output_type": "stream",
     "text": [
      "11\n",
      "8\n"
     ]
    }
   ],
   "source": [
    "##Lenght of String\n",
    "z = 'HelloWorld' # No space\n",
    "a = 'Hello world'\n",
    "b = 'Hello123' # No space as well\n",
    "print(len(a))\n",
    "print(len(b))"
   ]
  },
  {
   "cell_type": "code",
   "execution_count": 5,
   "metadata": {},
   "outputs": [
    {
     "name": "stdout",
     "output_type": "stream",
     "text": [
      "dlrow olleH\n"
     ]
    }
   ],
   "source": [
    "## Reverse a string\n",
    "print(a[::-1])"
   ]
  },
  {
   "cell_type": "code",
   "execution_count": 6,
   "metadata": {},
   "outputs": [
    {
     "name": "stdout",
     "output_type": "stream",
     "text": [
      "HELLO WORLD\n",
      "hello world\n",
      "False\n",
      "False\n",
      "False\n",
      "True\n"
     ]
    }
   ],
   "source": [
    "## Upper and lower case string\n",
    "print(a.upper())\n",
    "print(a.lower())\n",
    "\n",
    "print(a.isalpha())\n",
    "print(b.isalpha())\n",
    "print(b.isdigit())\n",
    "print(z.isalpha())\n"
   ]
  },
  {
   "cell_type": "code",
   "execution_count": null,
   "metadata": {},
   "outputs": [],
   "source": [
    "## 2 Sum leetcod equestion is solved using map\n",
    "## 2 Sum II (two) is sloved using 2 pointers\n",
    "## 3 Sum is solved using setting first variable as First number and in rest 2 place finding all other using 2 sum (two) 2 pointer method,\n",
    "## also the trcik here is to SORT first so if next number is similar is to previous number we basically skip it to avoid duplicate same sets"
   ]
  },
  {
   "cell_type": "code",
   "execution_count": 5,
   "metadata": {},
   "outputs": [
    {
     "name": "stdout",
     "output_type": "stream",
     "text": [
      "{1: 1, 2: 2, 3: 3}\n",
      "{'h': 1, 'e': 1, 'l': 2, 'o': 1}\n",
      "{'h': 1, 'e': 1, 'l': 2, 'o': 1}\n"
     ]
    }
   ],
   "source": [
    "### how to create a frequency obj\n",
    "numbers = [1, 2, 2, 3, 3, 3]\n",
    "num_count = {}\n",
    "\n",
    "for num in numbers:\n",
    "    num_count[num] = num_count.get(num, 0) + 1\n",
    "\n",
    "print(num_count)\n",
    "#============================\n",
    "# Create a frequency map for s1\n",
    "s1 = \"hello\"\n",
    "s1_count = {}\n",
    "for char in s1:\n",
    "    s1_count[char] = s1_count.get(char, 0) + 1\n",
    "\n",
    "print(s1_count)\n",
    "\n",
    "### OR\n",
    "\n",
    "# Create a frequency map for s1\n",
    "s1_count = {}\n",
    "for char in s1:\n",
    "    if char in s1_count:\n",
    "        s1_count[char] += 1\n",
    "    else:\n",
    "        s1_count[char] = 1\n",
    "print(s1_count)\n"
   ]
  },
  {
   "cell_type": "code",
   "execution_count": null,
   "metadata": {},
   "outputs": [],
   "source": [
    "### Why in sliding window we calculate the first case seperatly in sliding window and rest case in loop\n",
    "# 1. If we tried to handle the first window within the loop, we’d have to add checks to ensure that we don’t \n",
    "# erroneously remove elements before the window is fully established, complicating the code and making it less efficient.\n",
    "#2. If we were to handle the first case within the loop without setting it up initially, we'd often end up recalculating \n",
    "# sums unnecessarily, which would increase the time complexity of the algorithm."
   ]
  },
  {
   "cell_type": "code",
   "execution_count": 7,
   "metadata": {},
   "outputs": [
    {
     "name": "stdout",
     "output_type": "stream",
     "text": [
      "{'h': 1, 'e': 1, 'l': 2, 'o': 1}\n"
     ]
    }
   ],
   "source": [
    "t = 'hello'\n",
    "countT, window = {}, {}\n",
    "for c in t:\n",
    "    countT[c] = 1 + countT.get(c, 0)\n",
    "\n",
    "print(countT)"
   ]
  },
  {
   "cell_type": "code",
   "execution_count": 1,
   "metadata": {},
   "outputs": [
    {
     "name": "stdout",
     "output_type": "stream",
     "text": [
      "7\n"
     ]
    }
   ],
   "source": [
    "### Top of the stack is found by -1 index\n",
    "stack = [3,4,5,6,7]\n",
    "\n",
    "print(stack[-1])"
   ]
  },
  {
   "cell_type": "code",
   "execution_count": 3,
   "metadata": {},
   "outputs": [
    {
     "name": "stdout",
     "output_type": "stream",
     "text": [
      "[0, 0, 0]\n"
     ]
    }
   ],
   "source": [
    "### If you want a array, list or stack with prefilled zeros or any number\n",
    "temperatures = [\"any\", \"random\", \"List\"]\n",
    "res = [0] * len(temperatures)\n",
    "print(res)"
   ]
  },
  {
   "cell_type": "code",
   "execution_count": null,
   "metadata": {},
   "outputs": [],
   "source": []
  },
  {
   "cell_type": "code",
   "execution_count": 6,
   "metadata": {},
   "outputs": [
    {
     "name": "stdout",
     "output_type": "stream",
     "text": [
      "[1, 2, 3, 4, 5]\n",
      "['a', 'b', 'c']\n",
      "['a', 'b', 'c']\n",
      "[1, 2, 3, 4, 5]\n"
     ]
    }
   ],
   "source": [
    "### Swap 2 list\n",
    "A = [1,2,3,4,5]\n",
    "B = ['a', 'b', 'c']\n",
    "print(A)\n",
    "print(B)\n",
    "A, B = B, A\n",
    "print(A)\n",
    "print(B)"
   ]
  },
  {
   "cell_type": "code",
   "execution_count": null,
   "metadata": {},
   "outputs": [],
   "source": []
  }
 ],
 "metadata": {
  "kernelspec": {
   "display_name": "base",
   "language": "python",
   "name": "python3"
  },
  "language_info": {
   "codemirror_mode": {
    "name": "ipython",
    "version": 3
   },
   "file_extension": ".py",
   "mimetype": "text/x-python",
   "name": "python",
   "nbconvert_exporter": "python",
   "pygments_lexer": "ipython3",
   "version": "3.12.6"
  }
 },
 "nbformat": 4,
 "nbformat_minor": 2
}
