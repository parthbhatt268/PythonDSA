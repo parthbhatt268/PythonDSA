{
 "cells": [
  {
   "cell_type": "code",
   "execution_count": 1,
   "metadata": {},
   "outputs": [
    {
     "name": "stdout",
     "output_type": "stream",
     "text": [
      "{1: 'one', 2: 'two'}\n",
      "1\n",
      "2\n",
      "one\n",
      "two\n",
      "1 one\n",
      "2 two\n",
      "{1: 'one', 2: 'two', 3: 'three'}\n",
      "{2: 'two', 3: 'three'}\n",
      "1 one\n",
      "2 two\n",
      "3 three\n"
     ]
    }
   ],
   "source": [
    "# prompt: print obj in oython, keep it short example define obja dn then print its key and its value as well in sepearte loops and then third loop wit togther , now also add how to append to obj and also how to remove from it\n",
    "\n",
    "# Define the object\n",
    "obj = {1: \"one\", 2: \"two\"}\n",
    "\n",
    "# Print the object\n",
    "print(obj)  # Output: {1: 'one', 2: 'two'}\n",
    "\n",
    "# Iterate over keys\n",
    "for key in obj.keys():\n",
    "  print(key)\n",
    "\n",
    "# Iterate over values\n",
    "for value in obj.values():\n",
    "  print(value)\n",
    "\n",
    "# Iterate over key-value pairs\n",
    "for key, value in obj.items():\n",
    "  print(key, value)\n",
    "\n",
    "# Append a new key-value pair\n",
    "obj[3] = \"three\"\n",
    "print(obj)  # Output: {1: 'one', 2: 'two', 3: 'three'}\n",
    "\n",
    "# Remove a key-value pair\n",
    "del obj[1]\n",
    "print(obj)  # Output: {2: 'two', 3: 'three'}\n",
    "\n",
    "# Sorting an object by keys\n",
    "obj = {3: \"three\", 1: \"one\", 2: \"two\"}\n",
    "sorted_keys = sorted(obj.keys())\n",
    "for key in sorted_keys:\n",
    "  print(key, obj[key])\n"
   ]
  },
  {
   "cell_type": "code",
   "execution_count": null,
   "metadata": {},
   "outputs": [],
   "source": []
  }
 ],
 "metadata": {
  "kernelspec": {
   "display_name": "base",
   "language": "python",
   "name": "python3"
  },
  "language_info": {
   "codemirror_mode": {
    "name": "ipython",
    "version": 3
   },
   "file_extension": ".py",
   "mimetype": "text/x-python",
   "name": "python",
   "nbconvert_exporter": "python",
   "pygments_lexer": "ipython3",
   "version": "3.11.5"
  }
 },
 "nbformat": 4,
 "nbformat_minor": 2
}
