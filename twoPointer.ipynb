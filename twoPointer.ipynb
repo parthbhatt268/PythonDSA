{
 "cells": [
  {
   "cell_type": "code",
   "execution_count": 1,
   "metadata": {},
   "outputs": [],
   "source": [
    "### Palindrome\n",
    "\n",
    "class Solution:\n",
    "    def isPalindrome(self, s: str) -> bool:\n",
    "        new  = ''\n",
    "        for i in s:\n",
    "            if (i.isalpha() or i.isdigit()):\n",
    "                new += i.lower()\n",
    "        return (new == new[::-1])\n",
    "    \n",
    "\n",
    "        "
   ]
  },
  {
   "cell_type": "code",
   "execution_count": 1,
   "metadata": {},
   "outputs": [],
   "source": [
    "### 2 sum ARR IS I THINK SORTED\n",
    "#Basically you use 2 pointer as the array is already sorted so you create 2 pointer nad simple checks\n",
    "class Solution:\n",
    "    def twoSum(self, numbers: List[int], target: int) -> List[int]:\n",
    "        left, right = 0, len(numbers) - 1\n",
    "        \n",
    "        while left < right:\n",
    "            current_sum = numbers[left] + numbers[right]\n",
    "            if current_sum == target:\n",
    "                return [left + 1, right + 1]\n",
    "            elif current_sum < target:\n",
    "                left += 1\n",
    "            else:\n",
    "                right -= 1"
   ]
  },
  {
   "cell_type": "code",
   "execution_count": null,
   "metadata": {},
   "outputs": [],
   "source": [
    "### 3 SUM\n",
    "### Basically you just sort ti first and keep 2 loop first outer loop you just keep one number costant and on rest you just run the other loop with 2 SUm two pointe rtechnique\n",
    "# and one thing to note is if you find current and prevoius is same then you skip it boz that would lead to duplicate triplet answer.\n",
    "class Solution:\n",
    "    def threeSum(self, nums: List[int]) -> List[List[int]]:\n",
    "        res = []\n",
    "        nums.sort()\n",
    "\n",
    "        for i, a in enumerate(nums):\n",
    "            # Skip positive integers (boz if first number is itsekf postive there is no way we can add any triplet to get zero since there is not neagtive number at first place in sorted array)\n",
    "            if a > 0:\n",
    "                break\n",
    "\n",
    "            if i > 0 and a == nums[i - 1]:\n",
    "                continue\n",
    "\n",
    "            l, r = i + 1, len(nums) - 1\n",
    "            while l < r:\n",
    "                threeSum = a + nums[l] + nums[r]\n",
    "                if threeSum > 0:\n",
    "                    r -= 1\n",
    "                elif threeSum < 0:\n",
    "                    l += 1\n",
    "                else:\n",
    "                    res.append([a, nums[l], nums[r]])\n",
    "                    l += 1\n",
    "                    r -= 1\n",
    "                    while nums[l] == nums[l - 1] and l < r:\n",
    "                        l += 1\n",
    "                        \n",
    "        return res\n"
   ]
  },
  {
   "cell_type": "code",
   "execution_count": null,
   "metadata": {},
   "outputs": [],
   "source": [
    "### Container with max water\n",
    "#Bascially you keep two pointer one at start ond other at end\n",
    "# Now in each iertation you claute area if new max found you replace and then make decsion eother \n",
    "# left or right to move based on deciding whihc is smaller so that we can find max water\n",
    "class Solution:\n",
    "    def maxArea(self, height: List[int]) -> int:\n",
    "        left = 0\n",
    "        right = len(height) - 1\n",
    "        res = 0\n",
    "\n",
    "        while left < right:\n",
    "            area = (right - left) * min(height[left], height[right])\n",
    "            res = max(res, area)\n",
    "            if height[left] < height[right]:\n",
    "                left += 1\n",
    "            else:\n",
    "                right -= 1\n",
    "\n",
    "        return res\n"
   ]
  },
  {
   "cell_type": "code",
   "execution_count": null,
   "metadata": {},
   "outputs": [],
   "source": [
    "#Best time to buy a stock\n",
    "class Solution:\n",
    "    def maxProfit(self, prices: List[int]) -> int:\n",
    "        res = 0\n",
    "        \n",
    "        lowest = prices[0]\n",
    "        for price in prices:\n",
    "            if price < lowest:\n",
    "                lowest = price\n",
    "            res = max(res, price - lowest)\n",
    "        return res\n",
    "\n",
    "\n"
   ]
  },
  {
   "cell_type": "code",
   "execution_count": null,
   "metadata": {},
   "outputs": [],
   "source": [
    "### Rain Water trap\n",
    "class Solution:\n",
    "    def trap(self, height: List[int]) -> int:\n",
    "        if not height:\n",
    "            return 0\n",
    "\n",
    "        n = len(height)\n",
    "        leftMax = [0] * n\n",
    "        rightMax = [0] * n\n",
    "        res = 0\n",
    "\n",
    "        # Fill leftMax array\n",
    "        leftMax[0] = height[0]\n",
    "        for i in range(1, n):\n",
    "            leftMax[i] = max(leftMax[i - 1], height[i])\n",
    "\n",
    "        # Fill rightMax array\n",
    "        rightMax[n - 1] = height[n - 1]\n",
    "        for i in range(n - 2, -1, -1):\n",
    "            rightMax[i] = max(rightMax[i + 1], height[i])\n",
    "\n",
    "        # Calculate the trapped water\n",
    "        for i in range(n):\n",
    "            res += min(leftMax[i], rightMax[i]) - height[i]\n",
    "\n",
    "        return res\n"
   ]
  }
 ],
 "metadata": {
  "kernelspec": {
   "display_name": "base",
   "language": "python",
   "name": "python3"
  },
  "language_info": {
   "codemirror_mode": {
    "name": "ipython",
    "version": 3
   },
   "file_extension": ".py",
   "mimetype": "text/x-python",
   "name": "python",
   "nbconvert_exporter": "python",
   "pygments_lexer": "ipython3",
   "version": "3.11.5"
  }
 },
 "nbformat": 4,
 "nbformat_minor": 2
}
