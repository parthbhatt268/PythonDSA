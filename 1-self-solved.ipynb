{
 "cells": [
  {
   "cell_type": "code",
   "execution_count": null,
   "metadata": {},
   "outputs": [],
   "source": [
    "# Online Python Playground\n",
    "# Use the online IDE to write, edit & run your Python code\n",
    "# Create, edit & delete files\n",
    "\n",
    "\n",
    "g_str = \"aaabbcccc\"\n",
    "\n",
    "pre = g_str[0]\n",
    "counter = 1\n",
    "res = \"\"\n",
    "\n",
    "for i in g_str[1:]:\n",
    "\n",
    "    if i == pre:\n",
    "        counter = counter + 1\n",
    "    else:\n",
    "        str2 = str(counter)+ pre\n",
    "        res = res+str2\n",
    "        pre = i\n",
    "        counter = 1\n",
    "\n",
    "res += str(counter) + pre\n",
    "\n",
    "print(res)\n"
   ]
  }
 ],
 "metadata": {
  "language_info": {
   "name": "python"
  }
 },
 "nbformat": 4,
 "nbformat_minor": 2
}
