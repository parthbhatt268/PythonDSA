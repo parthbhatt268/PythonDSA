{
 "cells": [
  {
   "cell_type": "code",
   "execution_count": null,
   "metadata": {},
   "outputs": [],
   "source": [
    "g_str = \"aaabbcccc\"\n",
    "\n",
    "pre = g_str[0]\n",
    "counter = 1\n",
    "res = \"\"\n",
    "\n",
    "for i in g_str[1:]:\n",
    "\n",
    "    if i == pre:\n",
    "        counter = counter + 1\n",
    "    else:\n",
    "        str2 = str(counter)+ pre\n",
    "        res = res+str2\n",
    "        pre = i\n",
    "        counter = 1\n",
    "\n",
    "res += str(counter) + pre\n",
    "\n",
    "print(res)\n"
   ]
  },
  {
   "cell_type": "code",
   "execution_count": null,
   "metadata": {},
   "outputs": [],
   "source": [
    "# Anagram = mean new word is made byusing the same char of the first word\n",
    "def are_anagrams(str1, str2):\n",
    "    # Remove any whitespace and convert strings to lowercase (optional)\n",
    "    str1 = str1.replace(\" \", \"\").lower()\n",
    "    str2 = str2.replace(\" \", \"\").lower()\n",
    "    \n",
    "    # Early exit if lengths differ\n",
    "    if len(str1) != len(str2):\n",
    "        return False\n",
    "\n",
    "    # Create dictionaries to count character occurrences\n",
    "    count1 = {}\n",
    "    count2 = {}\n",
    "\n",
    "    # Count characters in first string\n",
    "    for char in str1:\n",
    "        if char in count1:\n",
    "            count1[char] += 1\n",
    "        else:\n",
    "            count1[char] = 1\n",
    "\n",
    "    # Count characters in second string\n",
    "    for char in str2:\n",
    "        if char in count2:\n",
    "            count2[char] += 1\n",
    "        else:\n",
    "            count2[char] = 1\n",
    "\n",
    "    # Compare the two dictionaries\n",
    "    return count1 == count2\n"
   ]
  }
 ],
 "metadata": {
  "language_info": {
   "name": "python"
  }
 },
 "nbformat": 4,
 "nbformat_minor": 2
}
