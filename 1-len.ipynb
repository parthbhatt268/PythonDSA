{
 "cells": [
  {
   "cell_type": "code",
   "execution_count": 1,
   "metadata": {},
   "outputs": [
    {
     "name": "stdout",
     "output_type": "stream",
     "text": [
      "11\n",
      "5\n",
      "3\n",
      "Sorted string: ehllo\n"
     ]
    }
   ],
   "source": [
    "# prompt: lenth of obj with example, can you giev exlmapl for all three strng arr and obj\n",
    "\n",
    "# Length of a string\n",
    "s = \"Hello world\"\n",
    "print(len(s))  # Output: 11\n",
    "\n",
    "# Length of an array\n",
    "arr = [1, 2, 3, 4, 5]\n",
    "print(len(arr))  # Output: 5\n",
    "\n",
    "# Length of an object (number of key-value pairs)\n",
    "obj = {1: \"one\", 2: \"two\", 3: \"three\"}\n",
    "print(len(obj))  # Output: 3\n",
    "\n",
    "# Sorting a string\n",
    "string = \"hello\"\n",
    "sorted_string = ''.join(sorted(string))\n",
    "print(\"Sorted string:\", sorted_string)  # Output: ehllo\n"
   ]
  },
  {
   "cell_type": "code",
   "execution_count": null,
   "metadata": {},
   "outputs": [],
   "source": []
  }
 ],
 "metadata": {
  "kernelspec": {
   "display_name": "base",
   "language": "python",
   "name": "python3"
  },
  "language_info": {
   "codemirror_mode": {
    "name": "ipython",
    "version": 3
   },
   "file_extension": ".py",
   "mimetype": "text/x-python",
   "name": "python",
   "nbconvert_exporter": "python",
   "pygments_lexer": "ipython3",
   "version": "3.11.5"
  }
 },
 "nbformat": 4,
 "nbformat_minor": 2
}
