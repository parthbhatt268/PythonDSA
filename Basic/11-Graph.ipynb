{
 "cells": [
  {
   "cell_type": "code",
   "execution_count": null,
   "id": "22971a9a",
   "metadata": {},
   "outputs": [],
   "source": [
    "# Number of Islands\n",
    "# trick is simialr to word search 1, you use recursive DFS\n",
    "# Just the diffferenc is that when you vist teh node you dont maintain an array or set\n",
    "# you simply mark them 0 making them water boz you alreayd have logic in place to not vist water nodes\n",
    "\n",
    "class Solution:\n",
    "    def numIslands(self, grid: List[List[str]]) -> int:\n",
    "        ROWS, COLS = len(grid), len(grid[0])\n",
    "        islands = 0\n",
    "\n",
    "        def dfs(r, c):\n",
    "            if (r < 0 or c < 0 or r >= ROWS or \n",
    "                c >= COLS or grid[r][c] == \"0\"\n",
    "            ):\n",
    "                return\n",
    "                \n",
    "            grid[r][c] = \"0\"\n",
    "            dfs(r + 1, c)\n",
    "            dfs(r - 1, c)\n",
    "            dfs(r, c + 1)\n",
    "            dfs(r, c - 1)\n",
    "\n",
    "        for r in range(ROWS):\n",
    "            for c in range(COLS):\n",
    "                if grid[r][c] == \"1\":\n",
    "                    dfs(r, c)\n",
    "                    islands += 1\n",
    "\n",
    "        return islands"
   ]
  }
 ],
 "metadata": {
  "language_info": {
   "name": "python"
  }
 },
 "nbformat": 4,
 "nbformat_minor": 5
}
