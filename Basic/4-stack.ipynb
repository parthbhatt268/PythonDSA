{
 "cells": [
  {
   "cell_type": "code",
   "execution_count": null,
   "metadata": {},
   "outputs": [],
   "source": [
    "# Valid parenthese\n",
    "\n",
    "class Solution:\n",
    "    def isValid(self, s: str) -> bool:\n",
    "        Map = {\")\": \"(\", \"]\": \"[\", \"}\": \"{\"} # this added here since we have to not match opening bracket with \n",
    "        # opening but we have to match with closing hence for \n",
    "        # reference like for this opening we will need this closing etc we have kept the map for reference\n",
    "        stack = []\n",
    "\n",
    "        for c in s:\n",
    "            if c not in Map: # if char is not in Map i.e this only checks the keys in MAP so if current c is \n",
    "                # not closing bracket the its a closing bracket i.e. its a oprning bracket hence append to stack\n",
    "                stack.append(c)\n",
    "                continue\n",
    "            if not stack or stack[-1] != Map[c]: # if stack is no empty or stack top is not matching\n",
    "                # the corresponding closing tag then return false\n",
    "                return False\n",
    "            stack.pop() # means its matching closing bracket found hence pop it\n",
    "\n",
    "        return not stack # means if stack is full return false as there is missing closing or opening tag \n",
    "    # else if empty then everyone found a pair\n",
    "\n",
    "    \n",
    "\n"
   ]
  },
  {
   "cell_type": "code",
   "execution_count": null,
   "metadata": {},
   "outputs": [],
   "source": [
    "### Reverse Polish Notation\n",
    "# Simple basically you loop throught list if you find number append to list if you found any sign then pop two time sna d\n",
    "# do necessary operation on it and then append the res back in the list\n",
    "\n",
    "class Solution:\n",
    "    def evalRPN(self, tokens: List[str]) -> int:\n",
    "        stack = []\n",
    "        for c in tokens:\n",
    "            if c == \"+\":\n",
    "                stack.append(stack.pop() + stack.pop())\n",
    "            elif c == \"-\":\n",
    "                a, b = stack.pop(), stack.pop()\n",
    "                stack.append(b - a)\n",
    "            elif c == \"*\":\n",
    "                stack.append(stack.pop() * stack.pop())\n",
    "            elif c == \"/\":\n",
    "                a, b = stack.pop(), stack.pop()\n",
    "                stack.append(int(float(b) / a))\n",
    "            else:\n",
    "                stack.append(int(c))\n",
    "        return stack[0]\n"
   ]
  },
  {
   "cell_type": "code",
   "execution_count": null,
   "metadata": {},
   "outputs": [],
   "source": [
    "### Generate Parenthese \n",
    "class Solution:\n",
    "    def generateParenthesis(self, n: int) -> List[str]:\n",
    "        stack = []\n",
    "        res = []\n",
    "\n",
    "        def backtrack(openN, closedN):\n",
    "            if openN == closedN == n:\n",
    "                res.append(\"\".join(stack))\n",
    "                return\n",
    "\n",
    "            if openN < n:\n",
    "                stack.append(\"(\")\n",
    "                backtrack(openN + 1, closedN)\n",
    "                stack.pop()\n",
    "            if closedN < openN:\n",
    "                stack.append(\")\")\n",
    "                backtrack(openN, closedN + 1)\n",
    "                stack.pop()\n",
    "\n",
    "        backtrack(0, 0)\n",
    "        return res\n"
   ]
  },
  {
   "cell_type": "code",
   "execution_count": null,
   "metadata": {},
   "outputs": [],
   "source": [
    "### Daily temp\n",
    "# Basically you add temp to stack when the temp is lower than the top of the stack,\n",
    "# and once you find the higher temp in future you with mark the same index in the res with different in the index position\n",
    "# So in this case you will need to have a res with all zero for length temperatures\n",
    "class Solution:\n",
    "    def dailyTemperatures(self, temperatures: List[int]) -> List[int]:\n",
    "        res = [0] * len(temperatures)\n",
    "        stack = []\n",
    "        for i, t in enumerate(temperatures):\n",
    "            while stack and t> stack[-1][0]:\n",
    "                stackT, stackInd = stack.pop()\n",
    "                res[stackInd] = (i - stackInd)\n",
    "            stack.append([t,i])\n",
    "        return res\n"
   ]
  },
  {
   "cell_type": "code",
   "execution_count": null,
   "metadata": {},
   "outputs": [],
   "source": [
    "### Car fleet\n",
    "class Solution:\n",
    "    def carFleet(self, target: int, position: List[int], speed: List[int]) -> int:\n",
    "        pair = [(p, s) for p, s in zip(position, speed)]\n",
    "        pair.sort(reverse=True)\n",
    "        stack = []\n",
    "        for p, s in pair:  # Reverse Sorted Order\n",
    "            stack.append((target - p) / s)\n",
    "            if len(stack) >= 2 and stack[-1] <= stack[-2]:\n",
    "                stack.pop()\n",
    "        return len(stack)\n"
   ]
  },
  {
   "cell_type": "code",
   "execution_count": null,
   "metadata": {},
   "outputs": [],
   "source": [
    "# Remove K digits 402 - easy enough\n",
    "\n",
    "class Solution:\n",
    "    def removeKdigits(self, num: str, k: int) -> str:\n",
    "        # monotonic increasing stack\n",
    "        stack = []\n",
    "\n",
    "        for i in num:\n",
    "            while k > 0 and stack and stack[-1] > i:\n",
    "                k -= 1\n",
    "                stack.pop()\n",
    "\n",
    "            stack.append(i)\n",
    "\n",
    "        stack = stack[:len(stack) - k]\n",
    "        res = \"\".join(stack).lstrip(\"0\")\n",
    "        return res if res else \"0\""
   ]
  }
 ],
 "metadata": {
  "kernelspec": {
   "display_name": "base",
   "language": "python",
   "name": "python3"
  },
  "language_info": {
   "codemirror_mode": {
    "name": "ipython",
    "version": 3
   },
   "file_extension": ".py",
   "mimetype": "text/x-python",
   "name": "python",
   "nbconvert_exporter": "python",
   "pygments_lexer": "ipython3",
   "version": "3.11.5"
  }
 },
 "nbformat": 4,
 "nbformat_minor": 2
}
