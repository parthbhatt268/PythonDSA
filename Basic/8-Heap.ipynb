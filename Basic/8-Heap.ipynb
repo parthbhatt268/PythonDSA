{
 "cells": [
  {
   "cell_type": "code",
   "execution_count": null,
   "id": "a910f767",
   "metadata": {},
   "outputs": [],
   "source": [
    "# kth largest element\n",
    "\n",
    "class Solution:\n",
    "    def findKthLargest(self, nums: List[int], k: int) -> int:\n",
    "        nums = [-i for i in nums] # maxHeap\n",
    "        heapq.heapify(nums)\n",
    "\n",
    "        res = 0\n",
    "        while k > 0:\n",
    "            res = heapq.heappop(nums)\n",
    "            k -= 1\n",
    "        return res * -1\n"
   ]
  }
 ],
 "metadata": {
  "language_info": {
   "name": "python"
  }
 },
 "nbformat": 4,
 "nbformat_minor": 5
}
