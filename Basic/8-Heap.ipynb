{
 "cells": [
  {
   "cell_type": "code",
   "execution_count": null,
   "id": "a910f767",
   "metadata": {},
   "outputs": [],
   "source": [
    "# kth largest element\n",
    "\n",
    "class Solution:\n",
    "    def findKthLargest(self, nums: List[int], k: int) -> int:\n",
    "        nums = [-i for i in nums] # maxHeap\n",
    "        heapq.heapify(nums)\n",
    "\n",
    "        res = 0\n",
    "        while k > 0:\n",
    "            res = heapq.heappop(nums)\n",
    "            k -= 1\n",
    "        return res * -1\n"
   ]
  },
  {
   "cell_type": "code",
   "execution_count": null,
   "id": "7f08cddb",
   "metadata": {},
   "outputs": [],
   "source": [
    "# Last Stone weight\n",
    "\n",
    "class Solution:\n",
    "    def lastStoneWeight(self, stones: List[int]) -> int:\n",
    "        stones = [-s for s in stones]\n",
    "        heapq.heapify(stones)\n",
    "\n",
    "        while len(stones) > 1:\n",
    "            first = heapq.heappop(stones)\n",
    "            second = heapq.heappop(stones)\n",
    "\n",
    "            if second > first:\n",
    "                heapq.heappush(stones, first - second)\n",
    "\n",
    "            \n",
    "        stones.append(0)\n",
    "\n",
    "        return abs(stones[0])"
   ]
  },
  {
   "cell_type": "code",
   "execution_count": null,
   "id": "bb4e4925",
   "metadata": {},
   "outputs": [],
   "source": [
    "# K closeest point form origin\n",
    "class Solution:\n",
    "    def kClosest(self, points: List[List[int]], k: int) -> List[List[int]]:\n",
    "        minHeap = []\n",
    "\n",
    "        for x, y in points:\n",
    "            dist = (x ** 2) + (y ** 2)\n",
    "            minHeap.append([dist, x, y])\n",
    "        \n",
    "        heapq.heapify(minHeap)\n",
    "\n",
    "        res = []\n",
    "        while k > 0:\n",
    "            dist, x, y = heapq.heappop(minHeap)\n",
    "            res.append([x, y])\n",
    "            k -= 1\n",
    "\n",
    "        return res"
   ]
  }
 ],
 "metadata": {
  "language_info": {
   "name": "python"
  }
 },
 "nbformat": 4,
 "nbformat_minor": 5
}
