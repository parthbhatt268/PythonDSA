{
 "cells": [
  {
   "cell_type": "code",
   "execution_count": null,
   "id": "a910f767",
   "metadata": {},
   "outputs": [],
   "source": [
    "# kth largest element\n",
    "\n",
    "class Solution:\n",
    "    def findKthLargest(self, nums: List[int], k: int) -> int:\n",
    "        nums = [-i for i in nums] # maxHeap\n",
    "        heapq.heapify(nums)\n",
    "\n",
    "        res = 0\n",
    "        while k > 0:\n",
    "            res = heapq.heappop(nums)\n",
    "            k -= 1\n",
    "        return res * -1\n"
   ]
  },
  {
   "cell_type": "code",
   "execution_count": null,
   "id": "7f08cddb",
   "metadata": {},
   "outputs": [],
   "source": [
    "# Last Stone weight\n",
    "\n",
    "class Solution:\n",
    "    def lastStoneWeight(self, stones: List[int]) -> int:\n",
    "        stones = [-s for s in stones]\n",
    "        heapq.heapify(stones)\n",
    "\n",
    "        while len(stones) > 1:\n",
    "            first = heapq.heappop(stones)\n",
    "            second = heapq.heappop(stones)\n",
    "\n",
    "            if second > first:\n",
    "                heapq.heappush(stones, first - second)\n",
    "\n",
    "            \n",
    "        stones.append(0)\n",
    "\n",
    "        return abs(stones[0])"
   ]
  }
 ],
 "metadata": {
  "language_info": {
   "name": "python"
  }
 },
 "nbformat": 4,
 "nbformat_minor": 5
}
