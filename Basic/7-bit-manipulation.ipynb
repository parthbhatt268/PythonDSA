{
 "cells": [
  {
   "cell_type": "code",
   "execution_count": null,
   "metadata": {},
   "outputs": [],
   "source": [
    "### In Bit Manipulation you can you AND & operator like on below case you have to count the number of ones\n",
    "# in the binary verison of given number, you could simply run a for loop and count the number of ones\n",
    "# But that means you will traverse all the number atleast one\n",
    "# To avoid this you use AND & and so when a inout number is given and assume its binary is 11001100000000000000000001\n",
    "# in this case you dont have to loop through each, just assume this number is 23456 in decimnal and take One minus of this 23455 and take AND of\n",
    "# those two number and you each if you do this operation you have encounter a one and you elimated it\n",
    "# no matter where it was in the string, now repeat  this process till you eleminate all the ones and then return the counter whihc you were\n",
    "# Incrementing evertime, thw worst case would be that the all are one then it will have to traverse all the postion as\n",
    "# it would have done for a normal for loop case\n",
    "\n",
    "\n",
    "\n",
    "# Count the number of ones in the binary form of given number\n",
    "class Solution:\n",
    "    def hammingWeight(self, n: int) -> int:\n",
    "        res = 0\n",
    "        while n != 0:\n",
    "            res += 1\n",
    "            n = n & (n-1)\n",
    "\n",
    "        return res\n",
    "        \n",
    "\n",
    "\n",
    "# Counter number of Ones in every number from 1 to n where n = 5\n",
    "class Solution:\n",
    "    def countBits(self, n: int) -> List[int]:\n",
    "        res = []\n",
    "\n",
    "        for i in range(n+1):\n",
    "            count = 0\n",
    "            while i != 0:\n",
    "                count += 1\n",
    "                i = i & (i-1)\n",
    "            res.append(count)\n",
    "            \n",
    "        return res\n",
    "        "
   ]
  },
  {
   "cell_type": "code",
   "execution_count": null,
   "metadata": {},
   "outputs": [],
   "source": []
  }
 ],
 "metadata": {
  "kernelspec": {
   "display_name": "Python 3",
   "language": "python",
   "name": "python3"
  },
  "language_info": {
   "codemirror_mode": {
    "name": "ipython",
    "version": 3
   },
   "file_extension": ".py",
   "mimetype": "text/x-python",
   "name": "python",
   "nbconvert_exporter": "python",
   "pygments_lexer": "ipython3",
   "version": "3.12.6"
  }
 },
 "nbformat": 4,
 "nbformat_minor": 2
}
