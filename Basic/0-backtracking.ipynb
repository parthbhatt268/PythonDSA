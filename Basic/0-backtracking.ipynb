{
 "cells": [
  {
   "cell_type": "code",
   "execution_count": null,
   "id": "87eb970e",
   "metadata": {},
   "outputs": [],
   "source": [
    "# Permutation\n",
    "# SO you will be gieven an arrya and you have to find and return all the poissble sombination of  permuatiosn of it\n",
    "# So we start form the base case like lets say there were zero element what is the permutation blank subarray,\n",
    "# then for just one number whats the soution subarray with one value in it.\n",
    "# then for every next big array you say like okay we inseert number in the front and the middle and the back\n",
    "# Like for array input [2,3] --output--> [2,3] and [3,2] (one is staruaght and one is reversed)\n",
    "# Same for array input [1,2,3] --output--> [1,2,3], [2,1,3], [2,3,1], [1,3,2], [3,1,2], [3,2,1]\n",
    "# so in put threee you had [2,3] and you just inseted 1 like at start, middle and then end, same with next three [3,2] you insterted\n",
    "# at start, midddle and then end \n",
    "\n",
    "class Solution:\n",
    "    def permute(self, nums: List[int]) -> List[List[int]]:\n",
    "        if len(nums) == 0:\n",
    "            return [[]]\n",
    "        \n",
    "        perms = self.permute(nums[1:])\n",
    "        res = []\n",
    "        for p in perms:\n",
    "            for i in range(len(p) + 1):\n",
    "                p_copy = p.copy()\n",
    "                p_copy.insert(i, nums[0])\n",
    "                res.append(p_copy)\n",
    "        return res"
   ]
  }
 ],
 "metadata": {
  "language_info": {
   "name": "python"
  }
 },
 "nbformat": 4,
 "nbformat_minor": 5
}
