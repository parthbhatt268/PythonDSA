{
 "cells": [
  {
   "cell_type": "code",
   "execution_count": null,
   "metadata": {
    "vscode": {
     "languageId": "plaintext"
    }
   },
   "outputs": [],
   "source": [
    "#Best time to buy a stock\n",
    "class Solution:\n",
    "    def maxProfit(self, prices: List[int]) -> int:\n",
    "        res = 0\n",
    "        \n",
    "        lowest = prices[0]\n",
    "        for price in prices:\n",
    "            if price < lowest:\n",
    "                lowest = price\n",
    "            res = max(res, price - lowest)\n",
    "        return res\n",
    "\n"
   ]
  },
  {
   "cell_type": "code",
   "execution_count": null,
   "metadata": {
    "vscode": {
     "languageId": "plaintext"
    }
   },
   "outputs": [],
   "source": [
    "### Sliding window\n",
    "### Longest substring wihtout repeating\n",
    "class Solution:\n",
    "    def lengthOfLongestSubstring(self, s: str) -> int:\n",
    "        charSet = set()\n",
    "        l = 0\n",
    "        res = 0\n",
    "\n",
    "        for r in range(len(s)):\n",
    "            while s[r] in charSet:\n",
    "                charSet.remove(s[l])\n",
    "                l +=1\n",
    "            charSet.add(s[r])\n",
    "            res = max(res, len(charSet))\n",
    "\n",
    "        return  res"
   ]
  },
  {
   "cell_type": "code",
   "execution_count": null,
   "metadata": {
    "vscode": {
     "languageId": "plaintext"
    }
   },
   "outputs": [],
   "source": [
    "# Permutation of a string\n",
    "\n",
    "class Solution:\n",
    "    def checkInclusion(self, s1: str, s2: str) -> bool:\n",
    "        n1 = len(s1)\n",
    "        n2 = len(s2)\n",
    "\n",
    "        if n1 > n2:\n",
    "            return False\n",
    "        \n",
    "        counts_1 = {}\n",
    "        window_count = {}\n",
    "\n",
    "        for i in s1:\n",
    "            counts_1[i] = counts_1.get(i, 0) + 1\n",
    "\n",
    "        for i in s2[:n1]:\n",
    "            window_count[i] =  window_count.get(i, 0) + 1\n",
    "\n",
    "        if counts_1 == window_count:\n",
    "            return True\n",
    "\n",
    "        for i in range(n1, n2):\n",
    "            # push new char in window\n",
    "            window_count[s2[i]] = window_count.get(s2[i], 0) + 1\n",
    "\n",
    "            #remove last char\n",
    "            char_remove = s2[i - n1]\n",
    "            if window_count[char_remove] == 1:\n",
    "                del window_count[char_remove]\n",
    "            else:\n",
    "                window_count[char_remove] -= 1\n",
    "\n",
    "            # Check if the current window is a permutation of s1\n",
    "            if window_count == counts_1:\n",
    "                return True\n",
    "            \n",
    "        return False"
   ]
  },
  {
   "cell_type": "code",
   "execution_count": null,
   "metadata": {
    "vscode": {
     "languageId": "plaintext"
    }
   },
   "outputs": [],
   "source": []
  }
 ],
 "metadata": {
  "language_info": {
   "name": "python"
  }
 },
 "nbformat": 4,
 "nbformat_minor": 2
}
