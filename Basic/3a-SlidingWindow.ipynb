{
 "cells": [
  {
   "cell_type": "code",
   "execution_count": null,
   "metadata": {
    "vscode": {
     "languageId": "plaintext"
    }
   },
   "outputs": [],
   "source": [
    "#Best time to buy a stock\n",
    "class Solution:\n",
    "    def maxProfit(self, prices: List[int]) -> int:\n",
    "        l, r = 0, 1\n",
    "        maxProfit = 0\n",
    "\n",
    "        while r < len(prices):\n",
    "            if prices[r] > prices[l]:\n",
    "                profit = prices[r] - prices[l]\n",
    "                maxProfit = max(maxProfit, profit)\n",
    "            else:\n",
    "                l = r\n",
    "            \n",
    "            r += 1\n",
    "\n",
    "        return maxProfit\n",
    "\n"
   ]
  },
  {
   "cell_type": "code",
   "execution_count": null,
   "metadata": {
    "vscode": {
     "languageId": "plaintext"
    }
   },
   "outputs": [],
   "source": [
    "### Sliding window\n",
    "### Longest substring wihtout repeating\n",
    "class Solution:\n",
    "    def lengthOfLongestSubstring(self, s: str) -> int:\n",
    "        charSet = set()\n",
    "        l = 0\n",
    "        res = 0\n",
    "\n",
    "        for r in range(len(s)):\n",
    "            while s[r] in charSet:\n",
    "                charSet.remove(s[l])\n",
    "                l +=1\n",
    "            charSet.add(s[r])\n",
    "            res = max(res, len(charSet))\n",
    "\n",
    "        return  res"
   ]
  },
  {
   "cell_type": "code",
   "execution_count": null,
   "metadata": {
    "vscode": {
     "languageId": "plaintext"
    }
   },
   "outputs": [],
   "source": [
    "# Permutation of a string\n",
    "\n",
    "class Solution:\n",
    "    def checkInclusion(self, s1: str, s2: str) -> bool:\n",
    "        n1 = len(s1)\n",
    "        n2 = len(s2)\n",
    "\n",
    "        counts_1 = {}\n",
    "        window_count = {}\n",
    " \n",
    "        # ---------------Edge case--------------#\n",
    "        if n1 > n2:\n",
    "            return False\n",
    "        \n",
    "        # ---------------Hashmap for s1--------------#\n",
    "        for i in s1:\n",
    "            counts_1[i] = counts_1.get(i, 0) + 1\n",
    "\n",
    "        # ---------------Hashmap for first window--------------#\n",
    "        for i in s2[:n1]:\n",
    "            window_count[i] =  window_count.get(i, 0) + 1\n",
    "\n",
    "        # ---------------Check for first case--------------#\n",
    "        if counts_1 == window_count:\n",
    "            return True\n",
    "\n",
    "\n",
    "        # ---------------Check for all case so slide--------------#\n",
    "        for i in range(n1, n2):\n",
    "            \n",
    "            ### 1. push new char in window\n",
    "            window_count[s2[i]] = window_count.get(s2[i], 0) + 1\n",
    "\n",
    "            ## 2. Remove last char\n",
    "            char_remove = s2[i - n1]\n",
    "            if window_count[char_remove] == 1:\n",
    "                del window_count[char_remove]\n",
    "            else:\n",
    "                window_count[char_remove] -= 1\n",
    "\n",
    "            ### 3. Check if the current window is a permutation of s1\n",
    "            if window_count == counts_1:\n",
    "                return True\n",
    "            \n",
    "        return False"
   ]
  },
  {
   "cell_type": "code",
   "execution_count": null,
   "metadata": {
    "vscode": {
     "languageId": "plaintext"
    }
   },
   "outputs": [],
   "source": []
  }
 ],
 "metadata": {
  "language_info": {
   "name": "python"
  }
 },
 "nbformat": 4,
 "nbformat_minor": 2
}
