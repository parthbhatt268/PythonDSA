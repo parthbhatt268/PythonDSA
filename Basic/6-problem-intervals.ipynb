{
 "cells": [
  {
   "cell_type": "code",
   "execution_count": null,
   "metadata": {},
   "outputs": [],
   "source": [
    "### Merge intervalls Problem\n",
    "\n",
    "Input: intervals = [[1,3],[2,6],[8,10],[15,18]]\n",
    "Output: [[1,6],[8,10],[15,18]]\n",
    "\n",
    "class Solution:\n",
    "    def merge(self, intervals: List[List[int]]) -> List[List[int]]:\n",
    "        intervals.sort( key = lambda i:i[0])\n",
    "\n",
    "        output = [intervals[0]]\n",
    "\n",
    "        for start, end in intervals[1:]:\n",
    "            lastEnd = output[-1][1]\n",
    "\n",
    "            if start <= lastEnd:\n",
    "                output[-1][1] = max(lastEnd, end) # here we did this boz ther migh be case where [1,3], [2,4] in this case we want max of second element\n",
    "            else:\n",
    "                output.append([start, end])\n",
    "            \n",
    "        return output"
   ]
  }
 ],
 "metadata": {
  "language_info": {
   "name": "python"
  }
 },
 "nbformat": 4,
 "nbformat_minor": 2
}
