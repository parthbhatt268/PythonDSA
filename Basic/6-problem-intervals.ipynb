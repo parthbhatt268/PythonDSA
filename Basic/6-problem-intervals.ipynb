{
 "cells": [
  {
   "cell_type": "code",
   "execution_count": null,
   "metadata": {},
   "outputs": [],
   "source": [
    "Things to remember \n",
    "1. Alway sort the intervals by their starts it will help\n",
    "\n",
    "### Merge intervalls Problem\n",
    "\n",
    "Input: intervals = [[1,3],[2,6],[8,10],[15,18]]\n",
    "Output: [[1,6],[8,10],[15,18]]\n",
    "\n",
    "class Solution:\n",
    "    def merge(self, intervals: List[List[int]]) -> List[List[int]]:\n",
    "        intervals.sort( key = lambda i:i[0])\n",
    "\n",
    "        output = [intervals[0]]\n",
    "\n",
    "        for start, end in intervals[1:]:\n",
    "            lastEnd = output[-1][1]\n",
    "\n",
    "            if start <= lastEnd:\n",
    "                output[-1][1] = max(lastEnd, end) # here we did this boz ther migh be case where [1,3], [2,4] in this case we want max of second element\n",
    "            else:\n",
    "                output.append([start, end])\n",
    "            \n",
    "        return output"
   ]
  },
  {
   "cell_type": "code",
   "execution_count": null,
   "metadata": {},
   "outputs": [],
   "source": [
    "### Insert invertval and while inserting if overlppbing then merge those intervals\n",
    "\n",
    "class Solution:\n",
    "    def insert(self, intervals: List[List[int]], newInterval: List[int]) -> List[List[int]]:\n",
    "        res = []\n",
    "\n",
    "        for i in range(len(intervals)):\n",
    "            if newInterval[1] < intervals[i][0]:\n",
    "                res.append(newInterval)\n",
    "                return res + intervals[i:]\n",
    "            elif newInterval[0] > intervals[i][1]:\n",
    "                res.append(intervals[i])\n",
    "            else:\n",
    "                newInterval = [min(intervals[i][0], newInterval[0]), max(intervals[i][1], newInterval[1])]\n",
    "            \n",
    "        res.append(newInterval)\n",
    "\n",
    "        return res"
   ]
  }
 ],
 "metadata": {
  "language_info": {
   "name": "python"
  }
 },
 "nbformat": 4,
 "nbformat_minor": 2
}
