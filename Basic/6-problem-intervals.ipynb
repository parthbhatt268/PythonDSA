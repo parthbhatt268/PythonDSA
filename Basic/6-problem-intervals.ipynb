{
 "cells": [
  {
   "cell_type": "code",
   "execution_count": 1,
   "metadata": {},
   "outputs": [
    {
     "ename": "NameError",
     "evalue": "name 'List' is not defined",
     "output_type": "error",
     "traceback": [
      "\u001b[1;31m---------------------------------------------------------------------------\u001b[0m",
      "\u001b[1;31mNameError\u001b[0m                                 Traceback (most recent call last)",
      "Cell \u001b[1;32mIn[1], line 26\u001b[0m\n\u001b[0;32m      1\u001b[0m \u001b[38;5;66;03m# Things to remember \u001b[39;00m\n\u001b[0;32m      2\u001b[0m \u001b[38;5;66;03m# 1. Alway sort the intervals by their starts it will help\u001b[39;00m\n\u001b[0;32m      3\u001b[0m \u001b[38;5;66;03m# 2. Sort will come with a bottle neck that it will bring O(nlogn)\u001b[39;00m\n\u001b[1;32m   (...)\u001b[0m\n\u001b[0;32m     23\u001b[0m \u001b[38;5;66;03m# Input: intervals = [[1,3],[2,6],[8,10],[15,18]]\u001b[39;00m\n\u001b[0;32m     24\u001b[0m \u001b[38;5;66;03m# Output: [[1,6],[8,10],[15,18]]\u001b[39;00m\n\u001b[1;32m---> 26\u001b[0m \u001b[38;5;28;43;01mclass\u001b[39;49;00m\u001b[43m \u001b[49m\u001b[38;5;21;43;01mSolution\u001b[39;49;00m\u001b[43m:\u001b[49m\n\u001b[0;32m     27\u001b[0m \u001b[43m    \u001b[49m\u001b[38;5;28;43;01mdef\u001b[39;49;00m\u001b[43m \u001b[49m\u001b[38;5;21;43mmerge\u001b[39;49m\u001b[43m(\u001b[49m\u001b[38;5;28;43mself\u001b[39;49m\u001b[43m,\u001b[49m\u001b[43m \u001b[49m\u001b[43mintervals\u001b[49m\u001b[43m:\u001b[49m\u001b[43m \u001b[49m\u001b[43mList\u001b[49m\u001b[43m[\u001b[49m\u001b[43mList\u001b[49m\u001b[43m[\u001b[49m\u001b[38;5;28;43mint\u001b[39;49m\u001b[43m]\u001b[49m\u001b[43m]\u001b[49m\u001b[43m)\u001b[49m\u001b[43m \u001b[49m\u001b[38;5;241;43m-\u001b[39;49m\u001b[38;5;241;43m>\u001b[39;49m\u001b[43m \u001b[49m\u001b[43mList\u001b[49m\u001b[43m[\u001b[49m\u001b[43mList\u001b[49m\u001b[43m[\u001b[49m\u001b[38;5;28;43mint\u001b[39;49m\u001b[43m]\u001b[49m\u001b[43m]\u001b[49m\u001b[43m:\u001b[49m\n\u001b[0;32m     28\u001b[0m \u001b[43m        \u001b[49m\u001b[43mintervals\u001b[49m\u001b[38;5;241;43m.\u001b[39;49m\u001b[43msort\u001b[49m\u001b[43m(\u001b[49m\u001b[43m \u001b[49m\u001b[43mkey\u001b[49m\u001b[43m \u001b[49m\u001b[38;5;241;43m=\u001b[39;49m\u001b[43m \u001b[49m\u001b[38;5;28;43;01mlambda\u001b[39;49;00m\u001b[43m \u001b[49m\u001b[43mi\u001b[49m\u001b[43m:\u001b[49m\u001b[43mi\u001b[49m\u001b[43m[\u001b[49m\u001b[38;5;241;43m0\u001b[39;49m\u001b[43m]\u001b[49m\u001b[43m)\u001b[49m\n",
      "Cell \u001b[1;32mIn[1], line 27\u001b[0m, in \u001b[0;36mSolution\u001b[1;34m()\u001b[0m\n\u001b[0;32m     26\u001b[0m \u001b[38;5;28;01mclass\u001b[39;00m \u001b[38;5;21;01mSolution\u001b[39;00m:\n\u001b[1;32m---> 27\u001b[0m     \u001b[38;5;28;01mdef\u001b[39;00m \u001b[38;5;21mmerge\u001b[39m(\u001b[38;5;28mself\u001b[39m, intervals: \u001b[43mList\u001b[49m[List[\u001b[38;5;28mint\u001b[39m]]) \u001b[38;5;241m-\u001b[39m\u001b[38;5;241m>\u001b[39m List[List[\u001b[38;5;28mint\u001b[39m]]:\n\u001b[0;32m     28\u001b[0m         intervals\u001b[38;5;241m.\u001b[39msort( key \u001b[38;5;241m=\u001b[39m \u001b[38;5;28;01mlambda\u001b[39;00m i:i[\u001b[38;5;241m0\u001b[39m])\n\u001b[0;32m     30\u001b[0m         output \u001b[38;5;241m=\u001b[39m [intervals[\u001b[38;5;241m0\u001b[39m]]\n",
      "\u001b[1;31mNameError\u001b[0m: name 'List' is not defined"
     ]
    }
   ],
   "source": [
    "# Things to remember \n",
    "# 1. Alway sort the intervals by their starts it will help\n",
    "# 2. Sort will come with a bottle neck that it will bring O(nlogn)\n",
    "# 3. In Python you could directly use intervals.sort() and it will sort based on the star value and if there is a tie\n",
    "# then it sort bases on end value\n",
    "# 4. In all problem start wit two question\n",
    "## a. IF they are not overlapping\n",
    "## b. IF they are overlapping\n",
    "# 5. For looping in for you can either use\n",
    "## a. range like - for i in range(Len(intervals)):\n",
    "## b. OR you can use start and end like - for start, end in intervals[1:]:\n",
    "## c. If you cannot make a decison whihc one to use you can simply use range and inside you can have start, end\n",
    "## like - for i in range(len(intervals)):\n",
    "##           start, end = intervals[i]\n",
    "\n",
    "### Merge intervalls Problem\n",
    "\n",
    "# First if: Check if newInterval ends before the current interval starts; if true, append newInterval and return the result.\n",
    "# Second elif: Check if newInterval starts after the current interval ends; if true, add the current interval to res.\n",
    "# Third else: so now its not firt or sedcond case case means it overlapp so we take max and min of start and end\n",
    "# and we simply consider it as UPDATED NEWINTERVAL and run till we reach end boz we might overlapp more inetrvals\n",
    "# Update newInterval to merge with the current interval by taking the smallest start (min) and largest end (max) to handle overlapping intervals.\n",
    "# Input: intervals = [[1,3],[2,6],[8,10],[15,18]]\n",
    "# Output: [[1,6],[8,10],[15,18]]\n",
    "\n",
    "class Solution:\n",
    "    def merge(self, intervals: List[List[int]]) -> List[List[int]]:\n",
    "        intervals.sort( key = lambda i:i[0])\n",
    "\n",
    "        output = [intervals[0]]\n",
    "\n",
    "        for start, end in intervals[1:]:\n",
    "            lastEnd = output[-1][1]\n",
    "\n",
    "            if start <= lastEnd:\n",
    "                output[-1][1] = max(lastEnd, end) # here we did this boz ther migh be case where [1,3], [2,4] in this case we want max of second element\n",
    "            else:\n",
    "                output.append([start, end])\n",
    "            \n",
    "        return output"
   ]
  },
  {
   "cell_type": "code",
   "execution_count": null,
   "metadata": {},
   "outputs": [],
   "source": [
    "### Insert invertval and while inserting if overlppbing then merge those intervals\n",
    "\n",
    "class Solution:\n",
    "    def insert(self, intervals: List[List[int]], newInterval: List[int]) -> List[List[int]]:\n",
    "        res = []\n",
    "\n",
    "        for i in range(len(intervals)):\n",
    "            if newInterval[1] < intervals[i][0]:\n",
    "                res.append(newInterval)\n",
    "                return res + intervals[i:]\n",
    "            elif newInterval[0] > intervals[i][1]:\n",
    "                res.append(intervals[i])\n",
    "            else:\n",
    "                newInterval = [min(intervals[i][0], newInterval[0]), max(intervals[i][1], newInterval[1])]\n",
    "            \n",
    "        res.append(newInterval)\n",
    "\n",
    "        return res"
   ]
  },
  {
   "cell_type": "code",
   "execution_count": null,
   "metadata": {},
   "outputs": [],
   "source": [
    "### Return number of Minimum no of intervals you need to remove to make the whole thing non overlapping\n",
    "class Solution:\n",
    "    def eraseOverlapIntervals(self, intervals: List[List[int]]) -> int:\n",
    "        intervals.sort()\n",
    "        res = 0\n",
    "        prevEnd = intervals[0][1]\n",
    "        \n",
    "        for start, end in intervals[1:]:\n",
    "            if start >= prevEnd:\n",
    "                prevEnd = end\n",
    "            else:\n",
    "                res += 1\n",
    "                prevEnd = min(end, prevEnd)\n",
    "        return res\n",
    "    "
   ]
  },
  {
   "cell_type": "code",
   "execution_count": null,
   "metadata": {},
   "outputs": [],
   "source": []
  }
 ],
 "metadata": {
  "kernelspec": {
   "display_name": "Python 3",
   "language": "python",
   "name": "python3"
  },
  "language_info": {
   "codemirror_mode": {
    "name": "ipython",
    "version": 3
   },
   "file_extension": ".py",
   "mimetype": "text/x-python",
   "name": "python",
   "nbconvert_exporter": "python",
   "pygments_lexer": "ipython3",
   "version": "3.12.6"
  }
 },
 "nbformat": 4,
 "nbformat_minor": 2
}
