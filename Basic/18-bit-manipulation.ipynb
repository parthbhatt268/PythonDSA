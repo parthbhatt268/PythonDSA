{
 "cells": [
  {
   "cell_type": "code",
   "execution_count": null,
   "metadata": {},
   "outputs": [],
   "source": [
    "### In Bit Manipulation you can you AND & operator like on below case you have to count the number of ones\n",
    "# in the binary verison of given number, you could simply run a for loop and count the number of ones\n",
    "# But that means you will traverse all the number atleast one\n",
    "# To avoid this you use AND & and so when a inout number is given and assume its binary is 11001100000000000000000001\n",
    "# in this case you dont have to loop through each, just assume this number is 23456 in decimnal and take One minus of this 23455 and take AND of\n",
    "# those two number and you each if you do this operation you have encounter a one and you elimated it\n",
    "# no matter where it was in the string, now repeat  this process till you eleminate all the ones and then return the counter whihc you were\n",
    "# Incrementing evertime, thw worst case would be that the all are one then it will have to traverse all the postion as\n",
    "# it would have done for a normal for loop case\n",
    "\n",
    "\n",
    "\n",
    "# Count the number of ones in the binary form of given number\n",
    "class Solution:\n",
    "    def hammingWeight(self, n: int) -> int:\n",
    "        res = 0\n",
    "        while n != 0:\n",
    "            res += 1\n",
    "            n = n & (n-1)\n",
    "\n",
    "        return res\n",
    "        \n",
    "\n",
    "\n",
    "# Counter number of Ones in every number from 1 to n where n = 5\n",
    "class Solution:\n",
    "    def countBits(self, n: int) -> List[int]:\n",
    "        res = []\n",
    "\n",
    "        for i in range(n+1):\n",
    "            count = 0\n",
    "            while i != 0:\n",
    "                count += 1\n",
    "                i = i & (i-1)\n",
    "            res.append(count)\n",
    "            \n",
    "        return res\n",
    "        "
   ]
  },
  {
   "cell_type": "code",
   "execution_count": null,
   "metadata": {},
   "outputs": [],
   "source": [
    "# SIngle number\n",
    "# In this problem there is a arr given and it have twice of evry number expect one\n",
    "# Task - to find that one singel unquie number\n",
    "# SOln - use XOR (^)\n",
    "# XOR is same number 0 differen number 1\n",
    "0 ^ 0 = 0\n",
    "0 ^ 1 = 1\n",
    "1 ^ 0 = 1\n",
    "1 ^ 1 = 0\n",
    "# so if we XOR all number in arr then we get that one number which is not twice\n",
    "n ^ 0 = n  // 0 ^ 0 = 0 // 1 ^ 0 = 1\n",
    "# Since n can be 0, 1\n",
    "\n",
    "# Asume nums = [1,1,2,2,3,4,4]  ### here answer is 3 since it is repeated only once\n",
    "# Process you would take first number 1 and ^ with 0 and store the result in 'res'\n",
    "# you will continue this process and each time you will hit a duplicate the magic of ^ will remove it\n",
    "# So at the end you will be left witht that uniuq number\n",
    "\n",
    "\n",
    "class Solution:\n",
    "    def singleNumber(self, nums: List[int]) -> int:\n",
    "        res = 0 # n ^ 0 = n\n",
    "\n",
    "        for n in nums:\n",
    "            res = n ^ res\n",
    "        \n",
    "        return res"
   ]
  },
  {
   "cell_type": "code",
   "execution_count": null,
   "metadata": {},
   "outputs": [],
   "source": [
    "# Reverse a 32 bit integer\n",
    "\n",
    "class Solution:\n",
    "    def reverseBits(self, n: int) -> int:\n",
    "        res = 0\n",
    "\n",
    "        for i in range(32):\n",
    "            bit = (n >> i) & 1 ###  you move the n in such a way that the one's place in n is the & with 1 to giev you the exact bit at thaat place\n",
    "            res = res | (bit << (31-i)) ###  you move the bits by 31-i since you are trying to put the exact same bit you got form n in the 31-i postion its like third position moved to thrid-last position\n",
    "            \n",
    "        return res"
   ]
  },
  {
   "cell_type": "code",
   "execution_count": null,
   "metadata": {},
   "outputs": [],
   "source": []
  }
 ],
 "metadata": {
  "kernelspec": {
   "display_name": "Python 3",
   "language": "python",
   "name": "python3"
  },
  "language_info": {
   "codemirror_mode": {
    "name": "ipython",
    "version": 3
   },
   "file_extension": ".py",
   "mimetype": "text/x-python",
   "name": "python",
   "nbconvert_exporter": "python",
   "pygments_lexer": "ipython3",
   "version": "3.12.6"
  }
 },
 "nbformat": 4,
 "nbformat_minor": 2
}
