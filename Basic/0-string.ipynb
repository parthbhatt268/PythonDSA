{
 "cells": [
  {
   "cell_type": "code",
   "execution_count": null,
   "id": "cd1fe7ce",
   "metadata": {},
   "outputs": [],
   "source": [
    "# Strings\n",
    "\n",
    "s = s.lstrip() # it strips any leading space from the string\n"
   ]
  },
  {
   "cell_type": "code",
   "execution_count": null,
   "id": "a100203b",
   "metadata": {},
   "outputs": [],
   "source": [
    "#  if you want to parse number .i.e. str to number then\n",
    "\n",
    "def parse_digits_only(s: str):\n",
    "    i = 0\n",
    "    parsed = 0\n",
    "\n",
    "    while i < len(s):\n",
    "        if not s[i].isdigit():\n",
    "            break\n",
    "        parsed = parsed * 10 + int(s[i])\n",
    "        i += 1\n",
    "\n",
    "    return parsed\n",
    "\n",
    "print(parse_digits_only(\"4193 with words\"))  # Output: 4193\n",
    "print(parse_digits_only(\"00321abc\"))         # Output: 321\n",
    "print(parse_digits_only(\"words\"))            # Output: 0 (no digits at start)"
   ]
  },
  {
   "cell_type": "code",
   "execution_count": null,
   "id": "1a8d5646",
   "metadata": {},
   "outputs": [],
   "source": [
    "### Leetcdoe \n",
    "# 8. String to Integer (atoi)\n",
    "\n",
    "class Solution:\n",
    "    def myAtoi(self, s: str) -> int:\n",
    "        s = s.lstrip()  # Remove leading whitespace\n",
    "\n",
    "        if not s:\n",
    "            return 0\n",
    "\n",
    "        i = 0\n",
    "        sign = 1\n",
    "\n",
    "        # Handle optional sign\n",
    "        if s[i] == \"+\":\n",
    "            i += 1\n",
    "        elif s[i] == \"-\":\n",
    "            i += 1\n",
    "            sign = -1\n",
    "\n",
    "        parsed = 0\n",
    "\n",
    "        # Convert characters to integer until non-digit is found\n",
    "        while i < len(s):\n",
    "            cur = s[i]\n",
    "            if not cur.isdigit():\n",
    "                break\n",
    "            else:\n",
    "                parsed = parsed * 10 + int(cur)\n",
    "            i += 1\n",
    "\n",
    "        parsed *= sign\n",
    "\n",
    "        # Clamp the result to 32-bit signed integer range\n",
    "        if parsed > 2**31 - 1:\n",
    "            return 2**31 - 1\n",
    "        elif parsed < -2**31:\n",
    "            return -2**31\n",
    "        else:\n",
    "            return parsed\n"
   ]
  }
 ],
 "metadata": {
  "kernelspec": {
   "display_name": "Python 3",
   "language": "python",
   "name": "python3"
  },
  "language_info": {
   "codemirror_mode": {
    "name": "ipython",
    "version": 3
   },
   "file_extension": ".py",
   "mimetype": "text/x-python",
   "name": "python",
   "nbconvert_exporter": "python",
   "pygments_lexer": "ipython3",
   "version": "3.12.6"
  }
 },
 "nbformat": 4,
 "nbformat_minor": 5
}
