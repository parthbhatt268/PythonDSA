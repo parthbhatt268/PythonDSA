{
 "cells": [
  {
   "cell_type": "code",
   "execution_count": null,
   "id": "ea1cf8df",
   "metadata": {},
   "outputs": [],
   "source": [
    "# Word search\n",
    "# Path variable can confuse you so basically path var keeps track al all the path that were created from path particular vairbale a starting point\n",
    "# so let say you are are first row and second element and now you start scanning left, right bottm, (nothing on top since firt row) and the you will do this\n",
    "# recrivly so teh child will do the same search in left right top bottom etc...\n",
    "# SO for that very iteration you keep the track of (r,c) you already visted  meaning if it occurase again you will skip it and hence not createing same sub child branch again\n",
    "# Once you figure out that all the parent child dfs didnt not lead us to word we were lloking for we remoev the path from the set and cleaning things up for the next vairbale.\n",
    "class Solution:\n",
    "    def exist(self, board: List[List[str]], word: str) -> bool:\n",
    "        ROW, COLS = len(board), len(board[0])\n",
    "        path = set()\n",
    "\n",
    "        def dfs(r, c, i):\n",
    "            if i == len(word):\n",
    "                return True\n",
    "\n",
    "            if (r < 0 or c < 0 or\n",
    "                r >= ROW or c >= COLS or\n",
    "                word[i] != board[r][c] or\n",
    "                (r,c) in path):\n",
    "                return False\n",
    "            path.add((r,c))\n",
    "\n",
    "            res = (dfs(r + 1, c, i + 1) or\n",
    "                dfs(r - 1, c, i + 1) or\n",
    "                dfs(r, c + 1, i + 1) or\n",
    "                dfs(r, c - 1, i + 1))\n",
    "        \n",
    "            path.remove((r,c))\n",
    "            return res\n",
    "\n",
    "        for r in range(ROW):\n",
    "            for c in range(COLS):\n",
    "                if dfs(r,c,0): return True\n",
    "        \n",
    "        return False\n",
    "\n"
   ]
  }
 ],
 "metadata": {
  "language_info": {
   "name": "python"
  }
 },
 "nbformat": 4,
 "nbformat_minor": 5
}
